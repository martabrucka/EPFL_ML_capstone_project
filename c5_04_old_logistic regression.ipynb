{
 "cells": [
  {
   "cell_type": "markdown",
   "id": "849acd7c-9e64-4ba6-b2b9-082d7a84de3c",
   "metadata": {
    "tags": []
   },
   "source": [
    "# Title: Logistic regression "
   ]
  },
  {
   "cell_type": "code",
   "execution_count": 1,
   "id": "1828f720-f0ee-42a8-a86d-1f0dad9bb328",
   "metadata": {},
   "outputs": [],
   "source": [
    "import pandas as pd\n",
    "import numpy as np\n",
    "import matplotlib.pyplot as plt\n",
    "import seaborn as sns\n",
    "%matplotlib inline"
   ]
  },
  {
   "cell_type": "code",
   "execution_count": 2,
   "id": "900ad2d1-d0ea-4d61-b909-869c1b78b8a6",
   "metadata": {},
   "outputs": [
    {
     "name": "stdout",
     "output_type": "stream",
     "text": [
      "Data one-hot encoded shape (368, 152)\n"
     ]
    },
    {
     "data": {
      "text/html": [
       "<div>\n",
       "<style scoped>\n",
       "    .dataframe tbody tr th:only-of-type {\n",
       "        vertical-align: middle;\n",
       "    }\n",
       "\n",
       "    .dataframe tbody tr th {\n",
       "        vertical-align: top;\n",
       "    }\n",
       "\n",
       "    .dataframe thead th {\n",
       "        text-align: right;\n",
       "    }\n",
       "</style>\n",
       "<table border=\"1\" class=\"dataframe\">\n",
       "  <thead>\n",
       "    <tr style=\"text-align: right;\">\n",
       "      <th></th>\n",
       "      <th>sample_id</th>\n",
       "      <th>group</th>\n",
       "      <th>age</th>\n",
       "      <th>Alanine</th>\n",
       "      <th>Creatine</th>\n",
       "      <th>Creatinine</th>\n",
       "      <th>Glutamine</th>\n",
       "      <th>Glycine</th>\n",
       "      <th>Histidine</th>\n",
       "      <th>Isoleucine</th>\n",
       "      <th>...</th>\n",
       "      <th>severity_0</th>\n",
       "      <th>severity_1</th>\n",
       "      <th>severity_2</th>\n",
       "      <th>severity_3</th>\n",
       "      <th>sex_0</th>\n",
       "      <th>sex_1</th>\n",
       "      <th>age_cat_0</th>\n",
       "      <th>age_cat_1</th>\n",
       "      <th>age_cat_2</th>\n",
       "      <th>age_cat_3</th>\n",
       "    </tr>\n",
       "  </thead>\n",
       "  <tbody>\n",
       "    <tr>\n",
       "      <th>0</th>\n",
       "      <td>6</td>\n",
       "      <td>2</td>\n",
       "      <td>72</td>\n",
       "      <td>0.411</td>\n",
       "      <td>0.016</td>\n",
       "      <td>0.088</td>\n",
       "      <td>0.705</td>\n",
       "      <td>0.274</td>\n",
       "      <td>0.063</td>\n",
       "      <td>0.077</td>\n",
       "      <td>...</td>\n",
       "      <td>1</td>\n",
       "      <td>0</td>\n",
       "      <td>0</td>\n",
       "      <td>0</td>\n",
       "      <td>0</td>\n",
       "      <td>1</td>\n",
       "      <td>0</td>\n",
       "      <td>0</td>\n",
       "      <td>1</td>\n",
       "      <td>0</td>\n",
       "    </tr>\n",
       "    <tr>\n",
       "      <th>1</th>\n",
       "      <td>7</td>\n",
       "      <td>2</td>\n",
       "      <td>89</td>\n",
       "      <td>0.379</td>\n",
       "      <td>0.018</td>\n",
       "      <td>0.069</td>\n",
       "      <td>0.696</td>\n",
       "      <td>0.538</td>\n",
       "      <td>0.034</td>\n",
       "      <td>0.062</td>\n",
       "      <td>...</td>\n",
       "      <td>1</td>\n",
       "      <td>0</td>\n",
       "      <td>0</td>\n",
       "      <td>0</td>\n",
       "      <td>1</td>\n",
       "      <td>0</td>\n",
       "      <td>0</td>\n",
       "      <td>0</td>\n",
       "      <td>0</td>\n",
       "      <td>1</td>\n",
       "    </tr>\n",
       "    <tr>\n",
       "      <th>2</th>\n",
       "      <td>9</td>\n",
       "      <td>2</td>\n",
       "      <td>82</td>\n",
       "      <td>0.362</td>\n",
       "      <td>0.058</td>\n",
       "      <td>0.117</td>\n",
       "      <td>0.657</td>\n",
       "      <td>0.311</td>\n",
       "      <td>0.054</td>\n",
       "      <td>0.054</td>\n",
       "      <td>...</td>\n",
       "      <td>1</td>\n",
       "      <td>0</td>\n",
       "      <td>0</td>\n",
       "      <td>0</td>\n",
       "      <td>1</td>\n",
       "      <td>0</td>\n",
       "      <td>0</td>\n",
       "      <td>0</td>\n",
       "      <td>1</td>\n",
       "      <td>0</td>\n",
       "    </tr>\n",
       "    <tr>\n",
       "      <th>3</th>\n",
       "      <td>19</td>\n",
       "      <td>2</td>\n",
       "      <td>56</td>\n",
       "      <td>0.394</td>\n",
       "      <td>0.007</td>\n",
       "      <td>0.100</td>\n",
       "      <td>0.783</td>\n",
       "      <td>0.227</td>\n",
       "      <td>0.067</td>\n",
       "      <td>0.084</td>\n",
       "      <td>...</td>\n",
       "      <td>1</td>\n",
       "      <td>0</td>\n",
       "      <td>0</td>\n",
       "      <td>0</td>\n",
       "      <td>0</td>\n",
       "      <td>1</td>\n",
       "      <td>0</td>\n",
       "      <td>1</td>\n",
       "      <td>0</td>\n",
       "      <td>0</td>\n",
       "    </tr>\n",
       "    <tr>\n",
       "      <th>4</th>\n",
       "      <td>20</td>\n",
       "      <td>2</td>\n",
       "      <td>87</td>\n",
       "      <td>0.224</td>\n",
       "      <td>0.122</td>\n",
       "      <td>0.155</td>\n",
       "      <td>0.452</td>\n",
       "      <td>0.220</td>\n",
       "      <td>0.055</td>\n",
       "      <td>0.033</td>\n",
       "      <td>...</td>\n",
       "      <td>1</td>\n",
       "      <td>0</td>\n",
       "      <td>0</td>\n",
       "      <td>0</td>\n",
       "      <td>0</td>\n",
       "      <td>1</td>\n",
       "      <td>0</td>\n",
       "      <td>0</td>\n",
       "      <td>0</td>\n",
       "      <td>1</td>\n",
       "    </tr>\n",
       "  </tbody>\n",
       "</table>\n",
       "<p>5 rows × 152 columns</p>\n",
       "</div>"
      ],
      "text/plain": [
       "  sample_id  group  age  Alanine  Creatine  Creatinine  Glutamine  Glycine  \\\n",
       "0         6      2   72    0.411     0.016       0.088      0.705    0.274   \n",
       "1         7      2   89    0.379     0.018       0.069      0.696    0.538   \n",
       "2         9      2   82    0.362     0.058       0.117      0.657    0.311   \n",
       "3        19      2   56    0.394     0.007       0.100      0.783    0.227   \n",
       "4        20      2   87    0.224     0.122       0.155      0.452    0.220   \n",
       "\n",
       "   Histidine  Isoleucine  ...  severity_0  severity_1  severity_2  severity_3  \\\n",
       "0      0.063       0.077  ...           1           0           0           0   \n",
       "1      0.034       0.062  ...           1           0           0           0   \n",
       "2      0.054       0.054  ...           1           0           0           0   \n",
       "3      0.067       0.084  ...           1           0           0           0   \n",
       "4      0.055       0.033  ...           1           0           0           0   \n",
       "\n",
       "   sex_0  sex_1  age_cat_0  age_cat_1  age_cat_2  age_cat_3  \n",
       "0      0      1          0          0          1          0  \n",
       "1      1      0          0          0          0          1  \n",
       "2      1      0          0          0          1          0  \n",
       "3      0      1          0          1          0          0  \n",
       "4      0      1          0          0          0          1  \n",
       "\n",
       "[5 rows x 152 columns]"
      ]
     },
     "execution_count": 2,
     "metadata": {},
     "output_type": "execute_result"
    }
   ],
   "source": [
    "data_ohe = pd.read_csv(\"data_ohe.csv\") # One-hot encoded\n",
    "print('Data one-hot encoded shape', data_ohe.shape)\n",
    "data_ohe.head()"
   ]
  },
  {
   "cell_type": "markdown",
   "id": "743596d5-2349-4463-9e3d-ca21d64afa67",
   "metadata": {},
   "source": [
    "# Prepare data for modeling"
   ]
  },
  {
   "cell_type": "code",
   "execution_count": 3,
   "id": "776494ce-5a53-4979-a4ac-c87def364604",
   "metadata": {},
   "outputs": [
    {
     "name": "stdout",
     "output_type": "stream",
     "text": [
      "Shape of onehot encoded data ready for modeling: (368, 150)\n"
     ]
    }
   ],
   "source": [
    "# Prepare data for modeling\n",
    "data_mod=data_ohe.drop(['age', 'sample_id'], axis=1)\n",
    "print('Shape of onehot encoded data ready for modeling:', data_mod.shape)\n",
    "\n",
    "# Create X/y variables\n",
    "X = data_mod.drop([\"group\"], axis=1)\n",
    "y = data_mod.group"
   ]
  },
  {
   "cell_type": "code",
   "execution_count": 4,
   "id": "c746cf6b-51cf-43c8-8b8f-a35d1194c52a",
   "metadata": {},
   "outputs": [
    {
     "name": "stdout",
     "output_type": "stream",
     "text": [
      "Train: (257, 149) (257,)\n",
      "Test: (111, 149) (111,)\n"
     ]
    }
   ],
   "source": [
    "from sklearn.model_selection import train_test_split\n",
    "\n",
    "# Create X/y variables\n",
    "\n",
    "# Split into train/test sets\n",
    "X_tr, X_te, y_tr, y_te = train_test_split(\n",
    "    X, y, stratify=y, test_size=0.3, random_state=0\n",
    ")\n",
    "\n",
    "print(\"Train:\", X_tr.shape, y_tr.shape)\n",
    "print(\"Test:\", X_te.shape, y_te.shape)"
   ]
  },
  {
   "cell_type": "code",
   "execution_count": 5,
   "id": "9ccec482-7b51-421e-a849-3461d1640c0c",
   "metadata": {},
   "outputs": [
    {
     "name": "stdout",
     "output_type": "stream",
     "text": [
      "2    172\n",
      "0     66\n",
      "1     19\n",
      "Name: group, dtype: int64\n",
      "2    0.669261\n",
      "0    0.256809\n",
      "1    0.073930\n",
      "Name: group, dtype: float64\n"
     ]
    }
   ],
   "source": [
    "# Check the number of samples (patients) in each group\n",
    "print(y_tr.value_counts())\n",
    "print(y_tr.value_counts(normalize=True))"
   ]
  },
  {
   "cell_type": "markdown",
   "id": "dab199b8-6b9c-4d46-af5a-d59e2e43fee5",
   "metadata": {},
   "source": [
    "**Comment:** There are 172 patients in the group 2 (acute phase of infection), 66 patients in the group 0 (Post-COVID) and 19 patients in the group 1 (post-acute phase of infection). The data is imbalanced and therefore, the logistic regression will be implemented with the parameter: class_weight='balanced'."
   ]
  },
  {
   "cell_type": "markdown",
   "id": "50c8139c-4e57-4bfe-9225-a423b9aeb1a1",
   "metadata": {},
   "source": [
    "# Baseline"
   ]
  },
  {
   "cell_type": "markdown",
   "id": "776169f7-ef48-4d59-980f-0eddb3e5af28",
   "metadata": {},
   "source": [
    "## Most frequent"
   ]
  },
  {
   "cell_type": "code",
   "execution_count": 6,
   "id": "1f09c913-d135-443c-9637-15cf00837434",
   "metadata": {},
   "outputs": [
    {
     "name": "stdout",
     "output_type": "stream",
     "text": [
      "Test score 66.667\n"
     ]
    }
   ],
   "source": [
    "# The most frequent baseline\n",
    "from sklearn.dummy import DummyClassifier\n",
    "\n",
    "dummy = DummyClassifier(strategy=\"most_frequent\")\n",
    "dummy.fit(None, y_tr)\n",
    "baseline_dummy_score=100 * dummy.score(None, y_te)\n",
    "print('Test score', np.round(baseline_dummy_score,3))"
   ]
  },
  {
   "cell_type": "markdown",
   "id": "ea85457c-170c-44c7-a093-98e9d8f2894b",
   "metadata": {},
   "source": [
    "## Logistic regression, no tuning"
   ]
  },
  {
   "cell_type": "code",
   "execution_count": 7,
   "id": "2ae6fc63-e8f8-4a6e-b5d5-54ceebb04011",
   "metadata": {},
   "outputs": [
    {
     "name": "stdout",
     "output_type": "stream",
     "text": [
      "Test score 80.18\n"
     ]
    }
   ],
   "source": [
    "import warnings\n",
    "from sklearn.exceptions import ConvergenceWarning\n",
    "\n",
    "# Filter convergence warnings\n",
    "warnings.simplefilter(\"ignore\", ConvergenceWarning)\n",
    "\n",
    "from sklearn.preprocessing import StandardScaler\n",
    "from sklearn.pipeline import Pipeline\n",
    "from sklearn.linear_model import LogisticRegression\n",
    "\n",
    "# Logistic regression estimator\n",
    "logreg_pipe = Pipeline([(\"scaler\", StandardScaler()), (\"logreg\", LogisticRegression(class_weight='balanced'))])\n",
    "\n",
    "# Fit estimator\n",
    "logreg_pipe.fit(X_tr, y_tr)\n",
    "\n",
    "# Evaluate on test set\n",
    "baseline_logreg_score = logreg_pipe.score(X_te, y_te)*100\n",
    "print('Test score', np.round(baseline_logreg_score,3))"
   ]
  },
  {
   "cell_type": "code",
   "execution_count": 8,
   "id": "28c70a5f-4002-4705-9a42-79c8b6ee7a9e",
   "metadata": {},
   "outputs": [
    {
     "name": "stdout",
     "output_type": "stream",
     "text": [
      "              precision    recall  f1-score   support\n",
      "\n",
      "           0       0.71      0.79      0.75        28\n",
      "           1       0.27      0.33      0.30         9\n",
      "           2       0.93      0.86      0.90        74\n",
      "\n",
      "    accuracy                           0.80       111\n",
      "   macro avg       0.64      0.66      0.65       111\n",
      "weighted avg       0.82      0.80      0.81       111\n",
      "\n"
     ]
    }
   ],
   "source": [
    "from sklearn.metrics import classification_report\n",
    "\n",
    "# Classification report\n",
    "y_te_preds = logreg_pipe.predict(X_te)\n",
    "print(classification_report(y_true=y_te, y_pred=y_te_preds))"
   ]
  },
  {
   "cell_type": "code",
   "execution_count": 9,
   "id": "3a9c014e-340c-4c87-977d-e87fcc8e7568",
   "metadata": {},
   "outputs": [
    {
     "data": {
      "image/png": "[encoded data removed]",
      "text/plain": [
       "<Figure size 864x288 with 4 Axes>"
      ]
     },
     "metadata": {
      "needs_background": "light"
     },
     "output_type": "display_data"
    }
   ],
   "source": [
    "from sklearn.metrics import ConfusionMatrixDisplay\n",
    "\n",
    "# Create two subplots\n",
    "f, (ax1, ax2) = plt.subplots(1, 2, figsize=(12, 4))\n",
    "\n",
    "# Plots the standard confusion matrix\n",
    "ax1.set_title(\"Confusion Matrix (counts)\")\n",
    "ConfusionMatrixDisplay.from_predictions(\n",
    "    y_te, logreg_pipe.predict(X_te), display_labels=['Post-COV','post acute', 'acute'], ax=ax1)\n",
    "\n",
    "# Plots the normalized confusion matrix\n",
    "ax2.set_title(\"Confusion Matrix (ratios)\")\n",
    "ConfusionMatrixDisplay.from_predictions(\n",
    "    y_te, logreg_pipe.predict(X_te), normalize=\"true\", display_labels=['Post-COV','post acute', 'acute'], ax=ax2)\n",
    "\n",
    "plt.show()"
   ]
  },
  {
   "cell_type": "markdown",
   "id": "a057c094-5453-4fc1-a221-5070a1a0c074",
   "metadata": {},
   "source": [
    "## k-NN, no tuning"
   ]
  },
  {
   "cell_type": "code",
   "execution_count": 10,
   "id": "dd08b5a7-bf07-449a-a255-3c7d269e26e5",
   "metadata": {},
   "outputs": [
    {
     "name": "stdout",
     "output_type": "stream",
     "text": [
      "Test score 81.081\n"
     ]
    }
   ],
   "source": [
    "# The knn baseline\n",
    "from sklearn.neighbors import KNeighborsClassifier\n",
    "from sklearn.preprocessing import StandardScaler\n",
    "from sklearn.pipeline import Pipeline\n",
    "\n",
    "# Create a k-NN pipeline\n",
    "knn_pipe = Pipeline(\n",
    "    [(\"scaler\", StandardScaler()), (\"knn\", KNeighborsClassifier(n_neighbors=10))]\n",
    ")\n",
    "\n",
    "# Fit estimator\n",
    "knn_pipe.fit(X_tr, y_tr)\n",
    "\n",
    "# Evaluate on test set\n",
    "baseline_knn_score = knn_pipe.score(X_te, y_te)*100\n",
    "print('Test score', np.round(baseline_knn_score,3))"
   ]
  },
  {
   "cell_type": "markdown",
   "id": "86a2ba48-65de-414e-8e32-a98f0611cf0f",
   "metadata": {},
   "source": [
    "# Grid search with cross-validation: all features"
   ]
  },
  {
   "cell_type": "code",
   "execution_count": 11,
   "id": "9b3f8c73-9fee-40ba-b445-475fbf90bae6",
   "metadata": {},
   "outputs": [],
   "source": [
    "import warnings\n",
    "from sklearn.exceptions import ConvergenceWarning\n",
    "\n",
    "# Filter convergence warnings\n",
    "warnings.simplefilter(\"ignore\", ConvergenceWarning)\n",
    "\n",
    "from sklearn.model_selection import GridSearchCV\n",
    "\n",
    "# Logistic regression estimator\n",
    "logreg_estimator = Pipeline([(\"scaler\", StandardScaler()), (\"logreg\", LogisticRegression(class_weight='balanced'))])\n",
    "\n",
    "# Grid search with cross-validation\n",
    "Cs = np.logspace(-3, -1, num=20)\n",
    "\n",
    "grids = [{\"logreg__penalty\": [\"l2\"], \"logreg__multi_class\": [\"ovr\"], \"logreg__solver\": [\"liblinear\"], \"logreg__C\": Cs},\n",
    "   {\"logreg__penalty\": [\"l2\"], \"logreg__multi_class\": [\"multinomial\"], \"logreg__solver\": [\"saga\"],\"logreg__C\": Cs}]\n",
    "\n",
    "logreg_gscv = GridSearchCV(logreg_estimator, grids, cv=10, refit=True, return_train_score=True, verbose=1)"
   ]
  },
  {
   "cell_type": "code",
   "execution_count": 12,
   "id": "249d99b3-3568-4fff-a6f7-b3689b94baee",
   "metadata": {},
   "outputs": [
    {
     "name": "stdout",
     "output_type": "stream",
     "text": [
      "Fitting 10 folds for each of 40 candidates, totalling 400 fits\n"
     ]
    },
    {
     "data": {
      "text/html": [
       "<style>#sk-container-id-1 {color: black;background-color: white;}#sk-container-id-1 pre{padding: 0;}#sk-container-id-1 div.sk-toggleable {background-color: white;}#sk-container-id-1 label.sk-toggleable__label {cursor: pointer;display: block;width: 100%;margin-bottom: 0;padding: 0.3em;box-sizing: border-box;text-align: center;}#sk-container-id-1 label.sk-toggleable__label-arrow:before {content: \"▸\";float: left;margin-right: 0.25em;color: #696969;}#sk-container-id-1 label.sk-toggleable__label-arrow:hover:before {color: black;}#sk-container-id-1 div.sk-estimator:hover label.sk-toggleable__label-arrow:before {color: black;}#sk-container-id-1 div.sk-toggleable__content {max-height: 0;max-width: 0;overflow: hidden;text-align: left;background-color: #f0f8ff;}#sk-container-id-1 div.sk-toggleable__content pre {margin: 0.2em;color: black;border-radius: 0.25em;background-color: #f0f8ff;}#sk-container-id-1 input.sk-toggleable__control:checked~div.sk-toggleable__content {max-height: 200px;max-width: 100%;overflow: auto;}#sk-container-id-1 input.sk-toggleable__control:checked~label.sk-toggleable__label-arrow:before {content: \"▾\";}#sk-container-id-1 div.sk-estimator input.sk-toggleable__control:checked~label.sk-toggleable__label {background-color: #d4ebff;}#sk-container-id-1 div.sk-label input.sk-toggleable__control:checked~label.sk-toggleable__label {background-color: #d4ebff;}#sk-container-id-1 input.sk-hidden--visually {border: 0;clip: rect(1px 1px 1px 1px);clip: rect(1px, 1px, 1px, 1px);height: 1px;margin: -1px;overflow: hidden;padding: 0;position: absolute;width: 1px;}#sk-container-id-1 div.sk-estimator {font-family: monospace;background-color: #f0f8ff;border: 1px dotted black;border-radius: 0.25em;box-sizing: border-box;margin-bottom: 0.5em;}#sk-container-id-1 div.sk-estimator:hover {background-color: #d4ebff;}#sk-container-id-1 div.sk-parallel-item::after {content: \"\";width: 100%;border-bottom: 1px solid gray;flex-grow: 1;}#sk-container-id-1 div.sk-label:hover label.sk-toggleable__label {background-color: #d4ebff;}#sk-container-id-1 div.sk-serial::before {content: \"\";position: absolute;border-left: 1px solid gray;box-sizing: border-box;top: 0;bottom: 0;left: 50%;z-index: 0;}#sk-container-id-1 div.sk-serial {display: flex;flex-direction: column;align-items: center;background-color: white;padding-right: 0.2em;padding-left: 0.2em;position: relative;}#sk-container-id-1 div.sk-item {position: relative;z-index: 1;}#sk-container-id-1 div.sk-parallel {display: flex;align-items: stretch;justify-content: center;background-color: white;position: relative;}#sk-container-id-1 div.sk-item::before, #sk-container-id-1 div.sk-parallel-item::before {content: \"\";position: absolute;border-left: 1px solid gray;box-sizing: border-box;top: 0;bottom: 0;left: 50%;z-index: -1;}#sk-container-id-1 div.sk-parallel-item {display: flex;flex-direction: column;z-index: 1;position: relative;background-color: white;}#sk-container-id-1 div.sk-parallel-item:first-child::after {align-self: flex-end;width: 50%;}#sk-container-id-1 div.sk-parallel-item:last-child::after {align-self: flex-start;width: 50%;}#sk-container-id-1 div.sk-parallel-item:only-child::after {width: 0;}#sk-container-id-1 div.sk-dashed-wrapped {border: 1px dashed gray;margin: 0 0.4em 0.5em 0.4em;box-sizing: border-box;padding-bottom: 0.4em;background-color: white;}#sk-container-id-1 div.sk-label label {font-family: monospace;font-weight: bold;display: inline-block;line-height: 1.2em;}#sk-container-id-1 div.sk-label-container {text-align: center;}#sk-container-id-1 div.sk-container {/* jupyter's `normalize.less` sets `[hidden] { display: none; }` but bootstrap.min.css set `[hidden] { display: none !important; }` so we also need the `!important` here to be able to override the default hidden behavior on the sphinx rendered scikit-learn.org. See: https://github.com/scikit-learn/scikit-learn/issues/21755 */display: inline-block !important;position: relative;}#sk-container-id-1 div.sk-text-repr-fallback {display: none;}</style><div id=\"sk-container-id-1\" class=\"sk-top-container\"><div class=\"sk-text-repr-fallback\"><pre>GridSearchCV(cv=10,\n",
       "             estimator=Pipeline(steps=[(&#x27;scaler&#x27;, StandardScaler()),\n",
       "                                       (&#x27;logreg&#x27;,\n",
       "                                        LogisticRegression(class_weight=&#x27;balanced&#x27;))]),\n",
       "             param_grid=[{&#x27;logreg__C&#x27;: array([0.001     , 0.00127427, 0.00162378, 0.00206914, 0.00263665,\n",
       "       0.00335982, 0.00428133, 0.00545559, 0.00695193, 0.00885867,\n",
       "       0.01128838, 0.0143845 , 0.01832981, 0.02335721, 0.02976351,\n",
       "       0.0379269 , 0.0483293 , 0.0615848...\n",
       "                         {&#x27;logreg__C&#x27;: array([0.001     , 0.00127427, 0.00162378, 0.00206914, 0.00263665,\n",
       "       0.00335982, 0.00428133, 0.00545559, 0.00695193, 0.00885867,\n",
       "       0.01128838, 0.0143845 , 0.01832981, 0.02335721, 0.02976351,\n",
       "       0.0379269 , 0.0483293 , 0.06158482, 0.078476  , 0.1       ]),\n",
       "                          &#x27;logreg__multi_class&#x27;: [&#x27;multinomial&#x27;],\n",
       "                          &#x27;logreg__penalty&#x27;: [&#x27;l2&#x27;],\n",
       "                          &#x27;logreg__solver&#x27;: [&#x27;saga&#x27;]}],\n",
       "             return_train_score=True, verbose=1)</pre><b>In a Jupyter environment, please rerun this cell to show the HTML representation or trust the notebook. <br />On GitHub, the HTML representation is unable to render, please try loading this page with nbviewer.org.</b></div><div class=\"sk-container\" hidden><div class=\"sk-item sk-dashed-wrapped\"><div class=\"sk-label-container\"><div class=\"sk-label sk-toggleable\"><input class=\"sk-toggleable__control sk-hidden--visually\" id=\"sk-estimator-id-1\" type=\"checkbox\" ><label for=\"sk-estimator-id-1\" class=\"sk-toggleable__label sk-toggleable__label-arrow\">GridSearchCV</label><div class=\"sk-toggleable__content\"><pre>GridSearchCV(cv=10,\n",
       "             estimator=Pipeline(steps=[(&#x27;scaler&#x27;, StandardScaler()),\n",
       "                                       (&#x27;logreg&#x27;,\n",
       "                                        LogisticRegression(class_weight=&#x27;balanced&#x27;))]),\n",
       "             param_grid=[{&#x27;logreg__C&#x27;: array([0.001     , 0.00127427, 0.00162378, 0.00206914, 0.00263665,\n",
       "       0.00335982, 0.00428133, 0.00545559, 0.00695193, 0.00885867,\n",
       "       0.01128838, 0.0143845 , 0.01832981, 0.02335721, 0.02976351,\n",
       "       0.0379269 , 0.0483293 , 0.0615848...\n",
       "                         {&#x27;logreg__C&#x27;: array([0.001     , 0.00127427, 0.00162378, 0.00206914, 0.00263665,\n",
       "       0.00335982, 0.00428133, 0.00545559, 0.00695193, 0.00885867,\n",
       "       0.01128838, 0.0143845 , 0.01832981, 0.02335721, 0.02976351,\n",
       "       0.0379269 , 0.0483293 , 0.06158482, 0.078476  , 0.1       ]),\n",
       "                          &#x27;logreg__multi_class&#x27;: [&#x27;multinomial&#x27;],\n",
       "                          &#x27;logreg__penalty&#x27;: [&#x27;l2&#x27;],\n",
       "                          &#x27;logreg__solver&#x27;: [&#x27;saga&#x27;]}],\n",
       "             return_train_score=True, verbose=1)</pre></div></div></div><div class=\"sk-parallel\"><div class=\"sk-parallel-item\"><div class=\"sk-item\"><div class=\"sk-label-container\"><div class=\"sk-label sk-toggleable\"><input class=\"sk-toggleable__control sk-hidden--visually\" id=\"sk-estimator-id-2\" type=\"checkbox\" ><label for=\"sk-estimator-id-2\" class=\"sk-toggleable__label sk-toggleable__label-arrow\">estimator: Pipeline</label><div class=\"sk-toggleable__content\"><pre>Pipeline(steps=[(&#x27;scaler&#x27;, StandardScaler()),\n",
       "                (&#x27;logreg&#x27;, LogisticRegression(class_weight=&#x27;balanced&#x27;))])</pre></div></div></div><div class=\"sk-serial\"><div class=\"sk-item\"><div class=\"sk-serial\"><div class=\"sk-item\"><div class=\"sk-estimator sk-toggleable\"><input class=\"sk-toggleable__control sk-hidden--visually\" id=\"sk-estimator-id-3\" type=\"checkbox\" ><label for=\"sk-estimator-id-3\" class=\"sk-toggleable__label sk-toggleable__label-arrow\">StandardScaler</label><div class=\"sk-toggleable__content\"><pre>StandardScaler()</pre></div></div></div><div class=\"sk-item\"><div class=\"sk-estimator sk-toggleable\"><input class=\"sk-toggleable__control sk-hidden--visually\" id=\"sk-estimator-id-4\" type=\"checkbox\" ><label for=\"sk-estimator-id-4\" class=\"sk-toggleable__label sk-toggleable__label-arrow\">LogisticRegression</label><div class=\"sk-toggleable__content\"><pre>LogisticRegression(class_weight=&#x27;balanced&#x27;)</pre></div></div></div></div></div></div></div></div></div></div></div></div>"
      ],
      "text/plain": [
       "GridSearchCV(cv=10,\n",
       "             estimator=Pipeline(steps=[('scaler', StandardScaler()),\n",
       "                                       ('logreg',\n",
       "                                        LogisticRegression(class_weight='balanced'))]),\n",
       "             param_grid=[{'logreg__C': array([0.001     , 0.00127427, 0.00162378, 0.00206914, 0.00263665,\n",
       "       0.00335982, 0.00428133, 0.00545559, 0.00695193, 0.00885867,\n",
       "       0.01128838, 0.0143845 , 0.01832981, 0.02335721, 0.02976351,\n",
       "       0.0379269 , 0.0483293 , 0.0615848...\n",
       "                         {'logreg__C': array([0.001     , 0.00127427, 0.00162378, 0.00206914, 0.00263665,\n",
       "       0.00335982, 0.00428133, 0.00545559, 0.00695193, 0.00885867,\n",
       "       0.01128838, 0.0143845 , 0.01832981, 0.02335721, 0.02976351,\n",
       "       0.0379269 , 0.0483293 , 0.06158482, 0.078476  , 0.1       ]),\n",
       "                          'logreg__multi_class': ['multinomial'],\n",
       "                          'logreg__penalty': ['l2'],\n",
       "                          'logreg__solver': ['saga']}],\n",
       "             return_train_score=True, verbose=1)"
      ]
     },
     "execution_count": 12,
     "metadata": {},
     "output_type": "execute_result"
    }
   ],
   "source": [
    "# Fit  estimator\n",
    "logreg_gscv.fit(X_tr, y_tr)"
   ]
  },
  {
   "cell_type": "code",
   "execution_count": 13,
   "id": "5e6c13a8-8023-4dfd-a94c-e68b9302b285",
   "metadata": {},
   "outputs": [
    {
     "data": {
      "text/html": [
       "<div>\n",
       "<style scoped>\n",
       "    .dataframe tbody tr th:only-of-type {\n",
       "        vertical-align: middle;\n",
       "    }\n",
       "\n",
       "    .dataframe tbody tr th {\n",
       "        vertical-align: top;\n",
       "    }\n",
       "\n",
       "    .dataframe thead th {\n",
       "        text-align: right;\n",
       "    }\n",
       "</style>\n",
       "<table border=\"1\" class=\"dataframe\">\n",
       "  <thead>\n",
       "    <tr style=\"text-align: right;\">\n",
       "      <th></th>\n",
       "      <th>strategy</th>\n",
       "      <th>C</th>\n",
       "      <th>mean_tr</th>\n",
       "      <th>mean_te</th>\n",
       "      <th>std_te</th>\n",
       "    </tr>\n",
       "  </thead>\n",
       "  <tbody>\n",
       "    <tr>\n",
       "      <th>19</th>\n",
       "      <td>ovr</td>\n",
       "      <td>0.1</td>\n",
       "      <td>0.927803</td>\n",
       "      <td>0.825077</td>\n",
       "      <td>0.053316</td>\n",
       "    </tr>\n",
       "    <tr>\n",
       "      <th>18</th>\n",
       "      <td>ovr</td>\n",
       "      <td>0.078476</td>\n",
       "      <td>0.922621</td>\n",
       "      <td>0.825077</td>\n",
       "      <td>0.053316</td>\n",
       "    </tr>\n",
       "    <tr>\n",
       "      <th>17</th>\n",
       "      <td>ovr</td>\n",
       "      <td>0.061585</td>\n",
       "      <td>0.912674</td>\n",
       "      <td>0.817385</td>\n",
       "      <td>0.052489</td>\n",
       "    </tr>\n",
       "    <tr>\n",
       "      <th>16</th>\n",
       "      <td>ovr</td>\n",
       "      <td>0.048329</td>\n",
       "      <td>0.903163</td>\n",
       "      <td>0.809692</td>\n",
       "      <td>0.058623</td>\n",
       "    </tr>\n",
       "    <tr>\n",
       "      <th>15</th>\n",
       "      <td>ovr</td>\n",
       "      <td>0.037927</td>\n",
       "      <td>0.893648</td>\n",
       "      <td>0.809692</td>\n",
       "      <td>0.058623</td>\n",
       "    </tr>\n",
       "  </tbody>\n",
       "</table>\n",
       "</div>"
      ],
      "text/plain": [
       "   strategy         C   mean_tr   mean_te    std_te\n",
       "19      ovr       0.1  0.927803  0.825077  0.053316\n",
       "18      ovr  0.078476  0.922621  0.825077  0.053316\n",
       "17      ovr  0.061585  0.912674  0.817385  0.052489\n",
       "16      ovr  0.048329  0.903163  0.809692  0.058623\n",
       "15      ovr  0.037927  0.893648  0.809692  0.058623"
      ]
     },
     "execution_count": 13,
     "metadata": {},
     "output_type": "execute_result"
    }
   ],
   "source": [
    "# Collect results in a DataFrame\n",
    "logreg_results = pd.DataFrame(\n",
    "    {\n",
    "        \"strategy\": logreg_gscv.cv_results_[\"param_logreg__multi_class\"],\n",
    "        \"C\": logreg_gscv.cv_results_[\"param_logreg__C\"],\n",
    "        \"mean_tr\": logreg_gscv.cv_results_[\"mean_train_score\"],\n",
    "        \"mean_te\": logreg_gscv.cv_results_[\"mean_test_score\"],\n",
    "        \"std_te\": logreg_gscv.cv_results_[\"std_test_score\"],\n",
    "    }\n",
    ")\n",
    "\n",
    "# Ten best combinations according to the mean test score\n",
    "logreg_results.sort_values(by=\"mean_te\", ascending=False).head(5)"
   ]
  },
  {
   "cell_type": "code",
   "execution_count": 14,
   "id": "a39ec228-a17a-41c9-9baf-86480fa7b347",
   "metadata": {},
   "outputs": [
    {
     "data": {
      "text/html": [
       "<style>#sk-container-id-2 {color: black;background-color: white;}#sk-container-id-2 pre{padding: 0;}#sk-container-id-2 div.sk-toggleable {background-color: white;}#sk-container-id-2 label.sk-toggleable__label {cursor: pointer;display: block;width: 100%;margin-bottom: 0;padding: 0.3em;box-sizing: border-box;text-align: center;}#sk-container-id-2 label.sk-toggleable__label-arrow:before {content: \"▸\";float: left;margin-right: 0.25em;color: #696969;}#sk-container-id-2 label.sk-toggleable__label-arrow:hover:before {color: black;}#sk-container-id-2 div.sk-estimator:hover label.sk-toggleable__label-arrow:before {color: black;}#sk-container-id-2 div.sk-toggleable__content {max-height: 0;max-width: 0;overflow: hidden;text-align: left;background-color: #f0f8ff;}#sk-container-id-2 div.sk-toggleable__content pre {margin: 0.2em;color: black;border-radius: 0.25em;background-color: #f0f8ff;}#sk-container-id-2 input.sk-toggleable__control:checked~div.sk-toggleable__content {max-height: 200px;max-width: 100%;overflow: auto;}#sk-container-id-2 input.sk-toggleable__control:checked~label.sk-toggleable__label-arrow:before {content: \"▾\";}#sk-container-id-2 div.sk-estimator input.sk-toggleable__control:checked~label.sk-toggleable__label {background-color: #d4ebff;}#sk-container-id-2 div.sk-label input.sk-toggleable__control:checked~label.sk-toggleable__label {background-color: #d4ebff;}#sk-container-id-2 input.sk-hidden--visually {border: 0;clip: rect(1px 1px 1px 1px);clip: rect(1px, 1px, 1px, 1px);height: 1px;margin: -1px;overflow: hidden;padding: 0;position: absolute;width: 1px;}#sk-container-id-2 div.sk-estimator {font-family: monospace;background-color: #f0f8ff;border: 1px dotted black;border-radius: 0.25em;box-sizing: border-box;margin-bottom: 0.5em;}#sk-container-id-2 div.sk-estimator:hover {background-color: #d4ebff;}#sk-container-id-2 div.sk-parallel-item::after {content: \"\";width: 100%;border-bottom: 1px solid gray;flex-grow: 1;}#sk-container-id-2 div.sk-label:hover label.sk-toggleable__label {background-color: #d4ebff;}#sk-container-id-2 div.sk-serial::before {content: \"\";position: absolute;border-left: 1px solid gray;box-sizing: border-box;top: 0;bottom: 0;left: 50%;z-index: 0;}#sk-container-id-2 div.sk-serial {display: flex;flex-direction: column;align-items: center;background-color: white;padding-right: 0.2em;padding-left: 0.2em;position: relative;}#sk-container-id-2 div.sk-item {position: relative;z-index: 1;}#sk-container-id-2 div.sk-parallel {display: flex;align-items: stretch;justify-content: center;background-color: white;position: relative;}#sk-container-id-2 div.sk-item::before, #sk-container-id-2 div.sk-parallel-item::before {content: \"\";position: absolute;border-left: 1px solid gray;box-sizing: border-box;top: 0;bottom: 0;left: 50%;z-index: -1;}#sk-container-id-2 div.sk-parallel-item {display: flex;flex-direction: column;z-index: 1;position: relative;background-color: white;}#sk-container-id-2 div.sk-parallel-item:first-child::after {align-self: flex-end;width: 50%;}#sk-container-id-2 div.sk-parallel-item:last-child::after {align-self: flex-start;width: 50%;}#sk-container-id-2 div.sk-parallel-item:only-child::after {width: 0;}#sk-container-id-2 div.sk-dashed-wrapped {border: 1px dashed gray;margin: 0 0.4em 0.5em 0.4em;box-sizing: border-box;padding-bottom: 0.4em;background-color: white;}#sk-container-id-2 div.sk-label label {font-family: monospace;font-weight: bold;display: inline-block;line-height: 1.2em;}#sk-container-id-2 div.sk-label-container {text-align: center;}#sk-container-id-2 div.sk-container {/* jupyter's `normalize.less` sets `[hidden] { display: none; }` but bootstrap.min.css set `[hidden] { display: none !important; }` so we also need the `!important` here to be able to override the default hidden behavior on the sphinx rendered scikit-learn.org. See: https://github.com/scikit-learn/scikit-learn/issues/21755 */display: inline-block !important;position: relative;}#sk-container-id-2 div.sk-text-repr-fallback {display: none;}</style><div id=\"sk-container-id-2\" class=\"sk-top-container\"><div class=\"sk-text-repr-fallback\"><pre>LogisticRegression(C=0.07847599703514611, class_weight=&#x27;balanced&#x27;,\n",
       "                   multi_class=&#x27;ovr&#x27;, solver=&#x27;liblinear&#x27;)</pre><b>In a Jupyter environment, please rerun this cell to show the HTML representation or trust the notebook. <br />On GitHub, the HTML representation is unable to render, please try loading this page with nbviewer.org.</b></div><div class=\"sk-container\" hidden><div class=\"sk-item\"><div class=\"sk-estimator sk-toggleable\"><input class=\"sk-toggleable__control sk-hidden--visually\" id=\"sk-estimator-id-5\" type=\"checkbox\" checked><label for=\"sk-estimator-id-5\" class=\"sk-toggleable__label sk-toggleable__label-arrow\">LogisticRegression</label><div class=\"sk-toggleable__content\"><pre>LogisticRegression(C=0.07847599703514611, class_weight=&#x27;balanced&#x27;,\n",
       "                   multi_class=&#x27;ovr&#x27;, solver=&#x27;liblinear&#x27;)</pre></div></div></div></div></div>"
      ],
      "text/plain": [
       "LogisticRegression(C=0.07847599703514611, class_weight='balanced',\n",
       "                   multi_class='ovr', solver='liblinear')"
      ]
     },
     "execution_count": 14,
     "metadata": {},
     "output_type": "execute_result"
    }
   ],
   "source": [
    "# Print the best estimator\n",
    "logreg_gscv.best_estimator_.named_steps['logreg']"
   ]
  },
  {
   "cell_type": "code",
   "execution_count": 15,
   "id": "fc16abaf-e292-4fdc-955e-fa1c58c88453",
   "metadata": {},
   "outputs": [
    {
     "data": {
      "image/png": "[encoded data removed]",
      "text/plain": [
       "<Figure size 1008x360 with 2 Axes>"
      ]
     },
     "metadata": {
      "needs_background": "light"
     },
     "output_type": "display_data"
    }
   ],
   "source": [
    "%matplotlib inline\n",
    "import matplotlib.pyplot as plt\n",
    "\n",
    "logreg_results_ovr=logreg_results[logreg_results['strategy']=='ovr']\n",
    "logreg_results_multin=logreg_results[logreg_results['strategy']=='multinomial']\n",
    "\n",
    "f, (ax1, ax2) = plt.subplots(1, 2, figsize=(14, 5), sharey=True)\n",
    "\n",
    "# Plot training/validation accuracy curves\n",
    "ax1.semilogx(logreg_results_ovr[\"C\"], logreg_results_ovr[\"mean_tr\"], label='training accuracy')\n",
    "ax1.semilogx(logreg_results_ovr[\"C\"], logreg_results_ovr[\"mean_te\"],  label='validation accuracy')\n",
    "\n",
    "ax1.set_xlabel('Inverse of regularization strength (C)')\n",
    "ax1.set_ylabel('Accuracy')\n",
    "ax1.legend(loc=\"best\")\n",
    "ax1.set_title(\"Evolution of training/validation accuracy with $C$ (ovr)\")\n",
    "\n",
    "# Plot training/validation accuracy curves\n",
    "ax2.semilogx(logreg_results_multin[\"C\"], logreg_results_multin[\"mean_tr\"], label='training accuracy')\n",
    "ax2.semilogx(logreg_results_multin[\"C\"], logreg_results_multin[\"mean_te\"],  label='validation accuracy')\n",
    "\n",
    "ax2.set_xlabel('Inverse of regularization strength (C)')\n",
    "ax2.set_ylabel('Accuracy')\n",
    "ax2.legend(loc=\"best\")\n",
    "ax2.set_title(\"Evolution of training/validation accuracy with $C$ (multinomial)\")\n",
    "\n",
    "plt.show()"
   ]
  },
  {
   "cell_type": "markdown",
   "id": "ede7e7b6-f91b-4ea9-a66c-fd966a15032b",
   "metadata": {},
   "source": [
    "**Comment:** \n",
    "- The one-vs-rest strategy for the multiclass classfication gives better results in terms of the validation accuracy than the multinomial strategy (based on the softmax regression). In the ovr strategy, a binary classfier is fit to separate each class from the other ones.  \n",
    "- Both models overfit: the difference between the training and the validation accuracy grows with increasing C parameter (so with decreasing regularization strength). Therefore, regularization is needed here to fight the overfitting. Above, the grid search was limited to C parameter < 0.1 to minimize the generalization error with the price of the validation accuracy decrease (the original grid search was done with C in the range (Cs = np.logspace(-3, -3, num=20)))."
   ]
  },
  {
   "cell_type": "code",
   "execution_count": 16,
   "id": "9b4affb6-5156-4ee7-9396-acd06992af88",
   "metadata": {},
   "outputs": [
    {
     "name": "stdout",
     "output_type": "stream",
     "text": [
      "Stored 'test_score_logreg' (float64)\n",
      "Test accuracy: 80.18%\n",
      "              precision    recall  f1-score   support\n",
      "\n",
      "           0       0.73      0.86      0.79        28\n",
      "           1       0.31      0.44      0.36         9\n",
      "           2       0.94      0.82      0.88        74\n",
      "\n",
      "    accuracy                           0.80       111\n",
      "   macro avg       0.66      0.71      0.68       111\n",
      "weighted avg       0.83      0.80      0.81       111\n",
      "\n"
     ]
    }
   ],
   "source": [
    "from sklearn.metrics import classification_report\n",
    "\n",
    "logreg_gscv.predict(X_te)\n",
    "\n",
    "test_score_logreg=logreg_gscv.score(X_te, y_te)\n",
    "%store test_score_logreg\n",
    "print(\"Test accuracy: {:.2f}%\".format(100 * test_score_logreg))\n",
    "\n",
    "# Classification report\n",
    "y_te_preds_logreg = logreg_gscv.predict(X_te)\n",
    "print(classification_report(y_true=y_te, y_pred=y_te_preds_logreg))\n",
    "\n",
    "# Extract probabilities\n",
    "prob_logreg = logreg_gscv.predict_proba(X_te)"
   ]
  },
  {
   "cell_type": "code",
   "execution_count": 17,
   "id": "ef997498-5d09-4ea1-b4ed-4ddafea03822",
   "metadata": {},
   "outputs": [
    {
     "data": {
      "image/png": "[encoded data removed]",
      "text/plain": [
       "<Figure size 864x288 with 4 Axes>"
      ]
     },
     "metadata": {
      "needs_background": "light"
     },
     "output_type": "display_data"
    }
   ],
   "source": [
    "from sklearn.metrics import ConfusionMatrixDisplay\n",
    "\n",
    "# Create two subplots\n",
    "f, (ax1, ax2) = plt.subplots(1, 2, figsize=(12, 4))\n",
    "\n",
    "# Plots the standard confusion matrix\n",
    "ax1.set_title(\"Confusion Matrix (counts)\")\n",
    "ConfusionMatrixDisplay.from_predictions(\n",
    "    y_te, logreg_gscv.predict(X_te), display_labels=['Post-COV','post acute', 'acute'], ax=ax1)\n",
    "\n",
    "# Plots the normalized confusion matrix\n",
    "ax2.set_title(\"Confusion Matrix (ratios)\")\n",
    "ConfusionMatrixDisplay.from_predictions(\n",
    "    y_te, logreg_gscv.predict(X_te), normalize=\"true\", display_labels=['Post-COV','post acute', 'acute'], ax=ax2)\n",
    "\n",
    "plt.show()"
   ]
  },
  {
   "cell_type": "markdown",
   "id": "1a2b3bf6-1f37-4535-8164-c636ae198d7f",
   "metadata": {},
   "source": [
    "**Comment:** \n",
    "- The model detects patients in the acute phase of infection 82% of times. Among the 74 patients in the acute phase, 7 were misclassfied as being in the post-acute phase and 6 of them as being completely recovered (post-COVID). If I would like the model to be more sensitive for detecting patients in the acute phase, I may want to increase the recall by decreasing the treshold of probabilities that the classfication is based on. The metabolome/lipidome of the misclassfied patients may be similar to the recovered patients for a number of reasons (good immunity and/or young age etc.) The model precision to detect patients in the acute phase is 94%, meaning that when it predicts acute phase, it is correct 94% of times. \n",
    "- The model detects the post-COVID patients 86% of times. The precision of the model to detect these patients is actually lower than the recall. \n",
    "- The model misclassfied 5 out of the 9 post acute phase patients. It means that in the 4 correctly classfied patients there is an unique pattern in the qunatities of the metabolites/lipids that makes it possible for them to be distinguished from the patients in the two extreme groups 0 and 2 (post-COVID and the acute phase). The misclassfied ones instead seem to be similar in terms of their metabolome/lipidome to either the recovered patients or the patients in the acute phase. The model predicts 13 post-acute patients overall, but only 4 of them correctly."
   ]
  },
  {
   "cell_type": "markdown",
   "id": "1934f128-8ce1-4d64-8987-e464ae8e9083",
   "metadata": {
    "tags": []
   },
   "source": [
    "# Feature importance based on coefficients"
   ]
  },
  {
   "cell_type": "markdown",
   "id": "acfeaadd-b891-4913-9ba6-66d5dbb9fd33",
   "metadata": {},
   "source": [
    "In the following, I will look at the features that have the highest coefficients for each category."
   ]
  },
  {
   "cell_type": "code",
   "execution_count": 18,
   "id": "3fdb71f6-eaed-4e5f-92e6-ca7f7a25d749",
   "metadata": {},
   "outputs": [
    {
     "data": {
      "text/plain": [
       "(3, 149)"
      ]
     },
     "execution_count": 18,
     "metadata": {},
     "output_type": "execute_result"
    }
   ],
   "source": [
    "# Access coefficients of the model\n",
    "coefficients=logreg_gscv.best_estimator_.named_steps['logreg'].coef_\n",
    "coefficients=pd.DataFrame(coefficients, columns=list(X_tr.columns))\n",
    "coefficients.shape"
   ]
  },
  {
   "cell_type": "code",
   "execution_count": 19,
   "id": "dcff3d23-63ff-4a03-a042-6b228542e100",
   "metadata": {},
   "outputs": [
    {
     "data": {
      "image/png": "[encoded data removed]",
      "text/plain": [
       "<Figure size 1296x216 with 2 Axes>"
      ]
     },
     "metadata": {
      "needs_background": "light"
     },
     "output_type": "display_data"
    }
   ],
   "source": [
    "# Plot heatmap with the coefficients of the model\n",
    "plt.figure(figsize=(18,3))\n",
    "sns.heatmap(coefficients, cmap = sns.cm.rocket_r)\n",
    "\n",
    "plt.xlabel('High-level features')\n",
    "plt.ylabel('Categories')\n",
    "plt.title(\"Coefficients of the logistic regression\")\n",
    "plt.show()"
   ]
  },
  {
   "cell_type": "code",
   "execution_count": 20,
   "id": "449578cc-5bf3-4174-958a-07fe65aaf7ca",
   "metadata": {},
   "outputs": [
    {
     "data": {
      "text/plain": [
       "array([0, 1, 2], dtype=int64)"
      ]
     },
     "execution_count": 20,
     "metadata": {},
     "output_type": "execute_result"
    }
   ],
   "source": [
    "logreg_gscv.best_estimator_.classes_"
   ]
  },
  {
   "cell_type": "markdown",
   "id": "f817c962-74fc-432f-80b6-2c3230e7cb57",
   "metadata": {},
   "source": [
    "**Comment:** The positive coefficients in each category predict the associated class. "
   ]
  },
  {
   "cell_type": "code",
   "execution_count": 21,
   "id": "1a705c97-064d-4df9-a50c-1ed4b1dde845",
   "metadata": {},
   "outputs": [
    {
     "data": {
      "text/plain": [
       "0   -0.431651\n",
       "1    0.309397\n",
       "2    0.210615\n",
       "Name: Phenylalanine, dtype: float64"
      ]
     },
     "execution_count": 21,
     "metadata": {},
     "output_type": "execute_result"
    }
   ],
   "source": [
    "coefficients['Phenylalanine']"
   ]
  },
  {
   "cell_type": "markdown",
   "id": "d86ff81c-c559-46ea-804a-4297fc262916",
   "metadata": {},
   "source": [
    "Here, there is an increase in the probability of being in the post acute phase rather than being post-COVID with the increased quantity of Phenylalanine. It means that Phenylalanine is increased in acute and post acute phase patients. "
   ]
  },
  {
   "cell_type": "code",
   "execution_count": 22,
   "id": "7433b541-9f10-4bdb-b61b-ab50d9010d4a",
   "metadata": {},
   "outputs": [
    {
     "data": {
      "text/plain": [
       "0   -0.107282\n",
       "1    0.281649\n",
       "2   -0.085553\n",
       "Name: Acetoaceticacid, dtype: float64"
      ]
     },
     "execution_count": 22,
     "metadata": {},
     "output_type": "execute_result"
    }
   ],
   "source": [
    "coefficients['Acetoaceticacid']"
   ]
  },
  {
   "cell_type": "markdown",
   "id": "6ed49fd6-96fc-4b3a-93e6-172d2497b434",
   "metadata": {},
   "source": [
    "Here, there is an increase in the probability of being in the post acute phase rather than being post-COVID or in acute phase with the increased quantity of Acetoaceticacid. "
   ]
  },
  {
   "cell_type": "code",
   "execution_count": 23,
   "id": "e28a89d1-1c2d-4b31-b5a7-5838bad1d2b9",
   "metadata": {},
   "outputs": [],
   "source": [
    "# Sort the coeffcients from the highest to the lowest for each class and store in a DataFrame\n",
    "feat_highest_coef=[]\n",
    "for label in range(3):\n",
    "    feat_highest_coef.append(coefficients.T.iloc[:,label].sort_values(ascending=False).index.tolist())\n",
    "    \n",
    "highest_coef=[]\n",
    "for label in range(3):\n",
    "    highest_coef.append(list(coefficients.T.iloc[:,label].sort_values(ascending=False)))"
   ]
  },
  {
   "cell_type": "code",
   "execution_count": 24,
   "id": "3c24f03a-b9a3-4c0a-b445-1358bafcbc52",
   "metadata": {},
   "outputs": [
    {
     "data": {
      "text/html": [
       "<div>\n",
       "<style scoped>\n",
       "    .dataframe tbody tr th:only-of-type {\n",
       "        vertical-align: middle;\n",
       "    }\n",
       "\n",
       "    .dataframe tbody tr th {\n",
       "        vertical-align: top;\n",
       "    }\n",
       "\n",
       "    .dataframe thead th {\n",
       "        text-align: right;\n",
       "    }\n",
       "</style>\n",
       "<table border=\"1\" class=\"dataframe\">\n",
       "  <thead>\n",
       "    <tr style=\"text-align: right;\">\n",
       "      <th></th>\n",
       "      <th>post_COV</th>\n",
       "      <th>post_acute</th>\n",
       "      <th>acute</th>\n",
       "    </tr>\n",
       "  </thead>\n",
       "  <tbody>\n",
       "    <tr>\n",
       "      <th>0</th>\n",
       "      <td>Aceticacid</td>\n",
       "      <td>Phenylalanine</td>\n",
       "      <td>Mannose</td>\n",
       "    </tr>\n",
       "    <tr>\n",
       "      <th>1</th>\n",
       "      <td>Glucose</td>\n",
       "      <td>Acetoaceticacid</td>\n",
       "      <td>Glycoproteins</td>\n",
       "    </tr>\n",
       "    <tr>\n",
       "      <th>2</th>\n",
       "      <td>Phospholipids_IDL</td>\n",
       "      <td>Creatine</td>\n",
       "      <td>Lacticacid</td>\n",
       "    </tr>\n",
       "    <tr>\n",
       "      <th>3</th>\n",
       "      <td>Citricacid</td>\n",
       "      <td>Formicacid</td>\n",
       "      <td>Phenylalanine</td>\n",
       "    </tr>\n",
       "    <tr>\n",
       "      <th>4</th>\n",
       "      <td>Cholesterol_VLDL4</td>\n",
       "      <td>Pyruvicacid</td>\n",
       "      <td>Tyrosine</td>\n",
       "    </tr>\n",
       "    <tr>\n",
       "      <th>5</th>\n",
       "      <td>ApoA1_HDL4</td>\n",
       "      <td>severity_3</td>\n",
       "      <td>Triglycerides_LDL6</td>\n",
       "    </tr>\n",
       "    <tr>\n",
       "      <th>6</th>\n",
       "      <td>severity_2</td>\n",
       "      <td>sex_1</td>\n",
       "      <td>Valine</td>\n",
       "    </tr>\n",
       "    <tr>\n",
       "      <th>7</th>\n",
       "      <td>ApoA1_HDL</td>\n",
       "      <td>Phospholipids_VLDL5</td>\n",
       "      <td>Isoleucine</td>\n",
       "    </tr>\n",
       "    <tr>\n",
       "      <th>8</th>\n",
       "      <td>ApoA1</td>\n",
       "      <td>Cholesterol_VLDL5</td>\n",
       "      <td>Triglycerides_VLDL5</td>\n",
       "    </tr>\n",
       "    <tr>\n",
       "      <th>9</th>\n",
       "      <td>Chol</td>\n",
       "      <td>FreeCholesterol_HDL</td>\n",
       "      <td>Leucine</td>\n",
       "    </tr>\n",
       "    <tr>\n",
       "      <th>10</th>\n",
       "      <td>Cholesterol_HDL4</td>\n",
       "      <td>FreeCholesterol_HDL3</td>\n",
       "      <td>sex_0</td>\n",
       "    </tr>\n",
       "    <tr>\n",
       "      <th>11</th>\n",
       "      <td>FreeCholesterol_IDL</td>\n",
       "      <td>Triglycerides_VLDL5</td>\n",
       "      <td>FreeCholesterol_HDL2</td>\n",
       "    </tr>\n",
       "    <tr>\n",
       "      <th>12</th>\n",
       "      <td>Triglycerides_HDL4</td>\n",
       "      <td>Triglycerides_HDL</td>\n",
       "      <td>severity_1</td>\n",
       "    </tr>\n",
       "    <tr>\n",
       "      <th>13</th>\n",
       "      <td>Cholesterol_VLDL</td>\n",
       "      <td>Triglycerides_HDL1</td>\n",
       "      <td>Triglycerides_LDL3</td>\n",
       "    </tr>\n",
       "    <tr>\n",
       "      <th>14</th>\n",
       "      <td>Cholesterol_VLDL3</td>\n",
       "      <td>FreeCholesterol_HDL4</td>\n",
       "      <td>age_cat_1</td>\n",
       "    </tr>\n",
       "  </tbody>\n",
       "</table>\n",
       "</div>"
      ],
      "text/plain": [
       "               post_COV            post_acute                 acute\n",
       "0            Aceticacid         Phenylalanine               Mannose\n",
       "1               Glucose       Acetoaceticacid         Glycoproteins\n",
       "2     Phospholipids_IDL              Creatine            Lacticacid\n",
       "3            Citricacid            Formicacid         Phenylalanine\n",
       "4     Cholesterol_VLDL4           Pyruvicacid              Tyrosine\n",
       "5            ApoA1_HDL4            severity_3    Triglycerides_LDL6\n",
       "6            severity_2                 sex_1                Valine\n",
       "7             ApoA1_HDL   Phospholipids_VLDL5            Isoleucine\n",
       "8                 ApoA1     Cholesterol_VLDL5   Triglycerides_VLDL5\n",
       "9                  Chol   FreeCholesterol_HDL               Leucine\n",
       "10     Cholesterol_HDL4  FreeCholesterol_HDL3                 sex_0\n",
       "11  FreeCholesterol_IDL   Triglycerides_VLDL5  FreeCholesterol_HDL2\n",
       "12   Triglycerides_HDL4     Triglycerides_HDL            severity_1\n",
       "13     Cholesterol_VLDL    Triglycerides_HDL1    Triglycerides_LDL3\n",
       "14    Cholesterol_VLDL3  FreeCholesterol_HDL4             age_cat_1"
      ]
     },
     "execution_count": 24,
     "metadata": {},
     "output_type": "execute_result"
    }
   ],
   "source": [
    "# Create df with the names of the top features\n",
    "feat_highest_coef=pd.DataFrame(feat_highest_coef)\n",
    "feat_highest_coef.index=['post_COV','post_acute', 'acute']\n",
    "feat_highest_coef=feat_highest_coef.T\n",
    "feat_highest_coef.head(15)"
   ]
  },
  {
   "cell_type": "code",
   "execution_count": 25,
   "id": "1e245650-10c0-4a16-9446-cca4c283b324",
   "metadata": {},
   "outputs": [
    {
     "data": {
      "text/html": [
       "<div>\n",
       "<style scoped>\n",
       "    .dataframe tbody tr th:only-of-type {\n",
       "        vertical-align: middle;\n",
       "    }\n",
       "\n",
       "    .dataframe tbody tr th {\n",
       "        vertical-align: top;\n",
       "    }\n",
       "\n",
       "    .dataframe thead th {\n",
       "        text-align: right;\n",
       "    }\n",
       "</style>\n",
       "<table border=\"1\" class=\"dataframe\">\n",
       "  <thead>\n",
       "    <tr style=\"text-align: right;\">\n",
       "      <th></th>\n",
       "      <th>post_COV</th>\n",
       "      <th>post_acute</th>\n",
       "      <th>acute</th>\n",
       "    </tr>\n",
       "  </thead>\n",
       "  <tbody>\n",
       "    <tr>\n",
       "      <th>0</th>\n",
       "      <td>0.235794</td>\n",
       "      <td>0.309397</td>\n",
       "      <td>0.270974</td>\n",
       "    </tr>\n",
       "    <tr>\n",
       "      <th>1</th>\n",
       "      <td>0.179739</td>\n",
       "      <td>0.281649</td>\n",
       "      <td>0.238893</td>\n",
       "    </tr>\n",
       "    <tr>\n",
       "      <th>2</th>\n",
       "      <td>0.169775</td>\n",
       "      <td>0.261498</td>\n",
       "      <td>0.235239</td>\n",
       "    </tr>\n",
       "    <tr>\n",
       "      <th>3</th>\n",
       "      <td>0.169645</td>\n",
       "      <td>0.259565</td>\n",
       "      <td>0.210615</td>\n",
       "    </tr>\n",
       "    <tr>\n",
       "      <th>4</th>\n",
       "      <td>0.166240</td>\n",
       "      <td>0.238344</td>\n",
       "      <td>0.208000</td>\n",
       "    </tr>\n",
       "  </tbody>\n",
       "</table>\n",
       "</div>"
      ],
      "text/plain": [
       "   post_COV  post_acute     acute\n",
       "0  0.235794    0.309397  0.270974\n",
       "1  0.179739    0.281649  0.238893\n",
       "2  0.169775    0.261498  0.235239\n",
       "3  0.169645    0.259565  0.210615\n",
       "4  0.166240    0.238344  0.208000"
      ]
     },
     "execution_count": 25,
     "metadata": {},
     "output_type": "execute_result"
    }
   ],
   "source": [
    "# Create df with the top coefficients\n",
    "highest_coef=pd.DataFrame(highest_coef)\n",
    "highest_coef.index=['post_COV','post_acute', 'acute']\n",
    "highest_coef=highest_coef.T\n",
    "highest_coef.head(5)"
   ]
  },
  {
   "cell_type": "code",
   "execution_count": 26,
   "id": "6e7ddf6e-99a6-40a5-b316-dd48d8d1da74",
   "metadata": {},
   "outputs": [
    {
     "data": {
      "image/png": "[encoded data removed]",
      "text/plain": [
       "<Figure size 1152x360 with 1 Axes>"
      ]
     },
     "metadata": {
      "needs_background": "light"
     },
     "output_type": "display_data"
    }
   ],
   "source": [
    "# Plot the coefficients for group 1 (post-acute phase)\n",
    "post_acute_feat=feat_highest_coef['post_acute']\n",
    "post_acute_coef=highest_coef['post_acute']\n",
    "\n",
    "plt.figure(figsize=(16,5))\n",
    "plt.bar(post_acute_feat[:70], post_acute_coef[:70])\n",
    "plt.xticks(rotation=90)\n",
    "plt.title(\"Coefficients group 1 (post-acute phase of infection)\")\n",
    "plt.show()"
   ]
  },
  {
   "cell_type": "markdown",
   "id": "4e20e76f-9c72-42d8-8bf8-92c0d76f6b12",
   "metadata": {
    "tags": []
   },
   "source": [
    "# Small metabolites only"
   ]
  },
  {
   "cell_type": "markdown",
   "id": "f17a36f6-418c-4d78-94fe-3d532845ec2e",
   "metadata": {},
   "source": [
    "In the following, I will reduce the feature space to only 25 features representing the quantities of small metabolites and aminoacids. In order to check h0w much influnce these substances have on the classfication into the three groups independently from the lipids."
   ]
  },
  {
   "cell_type": "code",
   "execution_count": 27,
   "id": "7e9aeac5-8e7e-4cad-9214-6eb60a20937f",
   "metadata": {},
   "outputs": [],
   "source": [
    "import warnings\n",
    "from sklearn.exceptions import ConvergenceWarning\n",
    "\n",
    "# Filter convergence warnings\n",
    "warnings.simplefilter(\"ignore\", ConvergenceWarning)\n",
    "\n",
    "from sklearn.model_selection import GridSearchCV\n",
    "\n",
    "# Logistic regression estimator\n",
    "logreg_estimator = Pipeline([(\"scaler\", StandardScaler()), (\"logreg\", LogisticRegression(class_weight='balanced'))])\n",
    "\n",
    "# Grid search with cross-validation\n",
    "Cs = np.logspace(-3, 3, num=20)\n",
    "\n",
    "grids = [{\"logreg__penalty\": [\"l2\"], \"logreg__multi_class\": [\"ovr\"], \"logreg__solver\": [\"liblinear\"], \"logreg__C\": Cs}]\n",
    "\n",
    "logreg_gscv = GridSearchCV(logreg_estimator, grids, cv=10, refit=True, return_train_score=True, verbose=1)"
   ]
  },
  {
   "cell_type": "code",
   "execution_count": 28,
   "id": "93551108-8698-4396-9faf-c3dbffc1553c",
   "metadata": {},
   "outputs": [
    {
     "name": "stdout",
     "output_type": "stream",
     "text": [
      "Shape of train data with metabolites features only (257, 25)\n"
     ]
    },
    {
     "data": {
      "text/plain": [
       "Index(['Alanine', 'Creatine', 'Creatinine', 'Glutamine', 'Glycine',\n",
       "       'Histidine', 'Isoleucine', 'Leucine', 'Methionine', 'Ornithine',\n",
       "       'Phenylalanine', 'Tyrosine', 'Valine', 'Aceticacid', 'Citricacid',\n",
       "       'Formicacid', 'Lacticacid', 'Succinicacid', '3-Hydroxybutyricacid',\n",
       "       'Acetoaceticacid', 'Acetone', 'Pyruvicacid', 'Glucose', 'Glycoproteins',\n",
       "       'Mannose'],\n",
       "      dtype='object')"
      ]
     },
     "execution_count": 28,
     "metadata": {},
     "output_type": "execute_result"
    }
   ],
   "source": [
    "%store -r metabolite_not_lipid\n",
    "\n",
    "X_tr_metabolite_not_lipid=X_tr[metabolite_not_lipid]\n",
    "print('Shape of train data with metabolites features only', X_tr_metabolite_not_lipid.shape)\n",
    "X_te_metabolite_not_lipid=X_te[metabolite_not_lipid]\n",
    "\n",
    "X_tr_metabolite_not_lipid.columns"
   ]
  },
  {
   "cell_type": "code",
   "execution_count": 29,
   "id": "a36428f3-2a11-4d19-906e-32d419391d49",
   "metadata": {},
   "outputs": [
    {
     "name": "stdout",
     "output_type": "stream",
     "text": [
      "Fitting 10 folds for each of 20 candidates, totalling 200 fits\n"
     ]
    },
    {
     "data": {
      "text/html": [
       "<style>#sk-container-id-3 {color: black;background-color: white;}#sk-container-id-3 pre{padding: 0;}#sk-container-id-3 div.sk-toggleable {background-color: white;}#sk-container-id-3 label.sk-toggleable__label {cursor: pointer;display: block;width: 100%;margin-bottom: 0;padding: 0.3em;box-sizing: border-box;text-align: center;}#sk-container-id-3 label.sk-toggleable__label-arrow:before {content: \"▸\";float: left;margin-right: 0.25em;color: #696969;}#sk-container-id-3 label.sk-toggleable__label-arrow:hover:before {color: black;}#sk-container-id-3 div.sk-estimator:hover label.sk-toggleable__label-arrow:before {color: black;}#sk-container-id-3 div.sk-toggleable__content {max-height: 0;max-width: 0;overflow: hidden;text-align: left;background-color: #f0f8ff;}#sk-container-id-3 div.sk-toggleable__content pre {margin: 0.2em;color: black;border-radius: 0.25em;background-color: #f0f8ff;}#sk-container-id-3 input.sk-toggleable__control:checked~div.sk-toggleable__content {max-height: 200px;max-width: 100%;overflow: auto;}#sk-container-id-3 input.sk-toggleable__control:checked~label.sk-toggleable__label-arrow:before {content: \"▾\";}#sk-container-id-3 div.sk-estimator input.sk-toggleable__control:checked~label.sk-toggleable__label {background-color: #d4ebff;}#sk-container-id-3 div.sk-label input.sk-toggleable__control:checked~label.sk-toggleable__label {background-color: #d4ebff;}#sk-container-id-3 input.sk-hidden--visually {border: 0;clip: rect(1px 1px 1px 1px);clip: rect(1px, 1px, 1px, 1px);height: 1px;margin: -1px;overflow: hidden;padding: 0;position: absolute;width: 1px;}#sk-container-id-3 div.sk-estimator {font-family: monospace;background-color: #f0f8ff;border: 1px dotted black;border-radius: 0.25em;box-sizing: border-box;margin-bottom: 0.5em;}#sk-container-id-3 div.sk-estimator:hover {background-color: #d4ebff;}#sk-container-id-3 div.sk-parallel-item::after {content: \"\";width: 100%;border-bottom: 1px solid gray;flex-grow: 1;}#sk-container-id-3 div.sk-label:hover label.sk-toggleable__label {background-color: #d4ebff;}#sk-container-id-3 div.sk-serial::before {content: \"\";position: absolute;border-left: 1px solid gray;box-sizing: border-box;top: 0;bottom: 0;left: 50%;z-index: 0;}#sk-container-id-3 div.sk-serial {display: flex;flex-direction: column;align-items: center;background-color: white;padding-right: 0.2em;padding-left: 0.2em;position: relative;}#sk-container-id-3 div.sk-item {position: relative;z-index: 1;}#sk-container-id-3 div.sk-parallel {display: flex;align-items: stretch;justify-content: center;background-color: white;position: relative;}#sk-container-id-3 div.sk-item::before, #sk-container-id-3 div.sk-parallel-item::before {content: \"\";position: absolute;border-left: 1px solid gray;box-sizing: border-box;top: 0;bottom: 0;left: 50%;z-index: -1;}#sk-container-id-3 div.sk-parallel-item {display: flex;flex-direction: column;z-index: 1;position: relative;background-color: white;}#sk-container-id-3 div.sk-parallel-item:first-child::after {align-self: flex-end;width: 50%;}#sk-container-id-3 div.sk-parallel-item:last-child::after {align-self: flex-start;width: 50%;}#sk-container-id-3 div.sk-parallel-item:only-child::after {width: 0;}#sk-container-id-3 div.sk-dashed-wrapped {border: 1px dashed gray;margin: 0 0.4em 0.5em 0.4em;box-sizing: border-box;padding-bottom: 0.4em;background-color: white;}#sk-container-id-3 div.sk-label label {font-family: monospace;font-weight: bold;display: inline-block;line-height: 1.2em;}#sk-container-id-3 div.sk-label-container {text-align: center;}#sk-container-id-3 div.sk-container {/* jupyter's `normalize.less` sets `[hidden] { display: none; }` but bootstrap.min.css set `[hidden] { display: none !important; }` so we also need the `!important` here to be able to override the default hidden behavior on the sphinx rendered scikit-learn.org. See: https://github.com/scikit-learn/scikit-learn/issues/21755 */display: inline-block !important;position: relative;}#sk-container-id-3 div.sk-text-repr-fallback {display: none;}</style><div id=\"sk-container-id-3\" class=\"sk-top-container\"><div class=\"sk-text-repr-fallback\"><pre>GridSearchCV(cv=10,\n",
       "             estimator=Pipeline(steps=[(&#x27;scaler&#x27;, StandardScaler()),\n",
       "                                       (&#x27;logreg&#x27;,\n",
       "                                        LogisticRegression(class_weight=&#x27;balanced&#x27;))]),\n",
       "             param_grid=[{&#x27;logreg__C&#x27;: array([1.00000000e-03, 2.06913808e-03, 4.28133240e-03, 8.85866790e-03,\n",
       "       1.83298071e-02, 3.79269019e-02, 7.84759970e-02, 1.62377674e-01,\n",
       "       3.35981829e-01, 6.95192796e-01, 1.43844989e+00, 2.97635144e+00,\n",
       "       6.15848211e+00, 1.27427499e+01, 2.63665090e+01, 5.45559478e+01,\n",
       "       1.12883789e+02, 2.33572147e+02, 4.83293024e+02, 1.00000000e+03]),\n",
       "                          &#x27;logreg__multi_class&#x27;: [&#x27;ovr&#x27;],\n",
       "                          &#x27;logreg__penalty&#x27;: [&#x27;l2&#x27;],\n",
       "                          &#x27;logreg__solver&#x27;: [&#x27;liblinear&#x27;]}],\n",
       "             return_train_score=True, verbose=1)</pre><b>In a Jupyter environment, please rerun this cell to show the HTML representation or trust the notebook. <br />On GitHub, the HTML representation is unable to render, please try loading this page with nbviewer.org.</b></div><div class=\"sk-container\" hidden><div class=\"sk-item sk-dashed-wrapped\"><div class=\"sk-label-container\"><div class=\"sk-label sk-toggleable\"><input class=\"sk-toggleable__control sk-hidden--visually\" id=\"sk-estimator-id-6\" type=\"checkbox\" ><label for=\"sk-estimator-id-6\" class=\"sk-toggleable__label sk-toggleable__label-arrow\">GridSearchCV</label><div class=\"sk-toggleable__content\"><pre>GridSearchCV(cv=10,\n",
       "             estimator=Pipeline(steps=[(&#x27;scaler&#x27;, StandardScaler()),\n",
       "                                       (&#x27;logreg&#x27;,\n",
       "                                        LogisticRegression(class_weight=&#x27;balanced&#x27;))]),\n",
       "             param_grid=[{&#x27;logreg__C&#x27;: array([1.00000000e-03, 2.06913808e-03, 4.28133240e-03, 8.85866790e-03,\n",
       "       1.83298071e-02, 3.79269019e-02, 7.84759970e-02, 1.62377674e-01,\n",
       "       3.35981829e-01, 6.95192796e-01, 1.43844989e+00, 2.97635144e+00,\n",
       "       6.15848211e+00, 1.27427499e+01, 2.63665090e+01, 5.45559478e+01,\n",
       "       1.12883789e+02, 2.33572147e+02, 4.83293024e+02, 1.00000000e+03]),\n",
       "                          &#x27;logreg__multi_class&#x27;: [&#x27;ovr&#x27;],\n",
       "                          &#x27;logreg__penalty&#x27;: [&#x27;l2&#x27;],\n",
       "                          &#x27;logreg__solver&#x27;: [&#x27;liblinear&#x27;]}],\n",
       "             return_train_score=True, verbose=1)</pre></div></div></div><div class=\"sk-parallel\"><div class=\"sk-parallel-item\"><div class=\"sk-item\"><div class=\"sk-label-container\"><div class=\"sk-label sk-toggleable\"><input class=\"sk-toggleable__control sk-hidden--visually\" id=\"sk-estimator-id-7\" type=\"checkbox\" ><label for=\"sk-estimator-id-7\" class=\"sk-toggleable__label sk-toggleable__label-arrow\">estimator: Pipeline</label><div class=\"sk-toggleable__content\"><pre>Pipeline(steps=[(&#x27;scaler&#x27;, StandardScaler()),\n",
       "                (&#x27;logreg&#x27;, LogisticRegression(class_weight=&#x27;balanced&#x27;))])</pre></div></div></div><div class=\"sk-serial\"><div class=\"sk-item\"><div class=\"sk-serial\"><div class=\"sk-item\"><div class=\"sk-estimator sk-toggleable\"><input class=\"sk-toggleable__control sk-hidden--visually\" id=\"sk-estimator-id-8\" type=\"checkbox\" ><label for=\"sk-estimator-id-8\" class=\"sk-toggleable__label sk-toggleable__label-arrow\">StandardScaler</label><div class=\"sk-toggleable__content\"><pre>StandardScaler()</pre></div></div></div><div class=\"sk-item\"><div class=\"sk-estimator sk-toggleable\"><input class=\"sk-toggleable__control sk-hidden--visually\" id=\"sk-estimator-id-9\" type=\"checkbox\" ><label for=\"sk-estimator-id-9\" class=\"sk-toggleable__label sk-toggleable__label-arrow\">LogisticRegression</label><div class=\"sk-toggleable__content\"><pre>LogisticRegression(class_weight=&#x27;balanced&#x27;)</pre></div></div></div></div></div></div></div></div></div></div></div></div>"
      ],
      "text/plain": [
       "GridSearchCV(cv=10,\n",
       "             estimator=Pipeline(steps=[('scaler', StandardScaler()),\n",
       "                                       ('logreg',\n",
       "                                        LogisticRegression(class_weight='balanced'))]),\n",
       "             param_grid=[{'logreg__C': array([1.00000000e-03, 2.06913808e-03, 4.28133240e-03, 8.85866790e-03,\n",
       "       1.83298071e-02, 3.79269019e-02, 7.84759970e-02, 1.62377674e-01,\n",
       "       3.35981829e-01, 6.95192796e-01, 1.43844989e+00, 2.97635144e+00,\n",
       "       6.15848211e+00, 1.27427499e+01, 2.63665090e+01, 5.45559478e+01,\n",
       "       1.12883789e+02, 2.33572147e+02, 4.83293024e+02, 1.00000000e+03]),\n",
       "                          'logreg__multi_class': ['ovr'],\n",
       "                          'logreg__penalty': ['l2'],\n",
       "                          'logreg__solver': ['liblinear']}],\n",
       "             return_train_score=True, verbose=1)"
      ]
     },
     "execution_count": 29,
     "metadata": {},
     "output_type": "execute_result"
    }
   ],
   "source": [
    "# Fit estimator\n",
    "logreg_gscv.fit(X_tr_metabolite_not_lipid, y_tr)"
   ]
  },
  {
   "cell_type": "code",
   "execution_count": 30,
   "id": "05e5600f-9f78-4a74-a432-dd4c9f8ddf7d",
   "metadata": {},
   "outputs": [
    {
     "data": {
      "text/html": [
       "<div>\n",
       "<style scoped>\n",
       "    .dataframe tbody tr th:only-of-type {\n",
       "        vertical-align: middle;\n",
       "    }\n",
       "\n",
       "    .dataframe tbody tr th {\n",
       "        vertical-align: top;\n",
       "    }\n",
       "\n",
       "    .dataframe thead th {\n",
       "        text-align: right;\n",
       "    }\n",
       "</style>\n",
       "<table border=\"1\" class=\"dataframe\">\n",
       "  <thead>\n",
       "    <tr style=\"text-align: right;\">\n",
       "      <th></th>\n",
       "      <th>C</th>\n",
       "      <th>mean_tr</th>\n",
       "      <th>mean_te</th>\n",
       "      <th>std_te</th>\n",
       "    </tr>\n",
       "  </thead>\n",
       "  <tbody>\n",
       "    <tr>\n",
       "      <th>11</th>\n",
       "      <td>2.976351</td>\n",
       "      <td>0.914838</td>\n",
       "      <td>0.872000</td>\n",
       "      <td>0.064310</td>\n",
       "    </tr>\n",
       "    <tr>\n",
       "      <th>10</th>\n",
       "      <td>1.43845</td>\n",
       "      <td>0.910513</td>\n",
       "      <td>0.864154</td>\n",
       "      <td>0.060044</td>\n",
       "    </tr>\n",
       "    <tr>\n",
       "      <th>9</th>\n",
       "      <td>0.695193</td>\n",
       "      <td>0.901433</td>\n",
       "      <td>0.860154</td>\n",
       "      <td>0.062789</td>\n",
       "    </tr>\n",
       "    <tr>\n",
       "      <th>12</th>\n",
       "      <td>6.158482</td>\n",
       "      <td>0.922612</td>\n",
       "      <td>0.856308</td>\n",
       "      <td>0.081379</td>\n",
       "    </tr>\n",
       "    <tr>\n",
       "      <th>8</th>\n",
       "      <td>0.335982</td>\n",
       "      <td>0.892784</td>\n",
       "      <td>0.856154</td>\n",
       "      <td>0.057338</td>\n",
       "    </tr>\n",
       "  </tbody>\n",
       "</table>\n",
       "</div>"
      ],
      "text/plain": [
       "           C   mean_tr   mean_te    std_te\n",
       "11  2.976351  0.914838  0.872000  0.064310\n",
       "10   1.43845  0.910513  0.864154  0.060044\n",
       "9   0.695193  0.901433  0.860154  0.062789\n",
       "12  6.158482  0.922612  0.856308  0.081379\n",
       "8   0.335982  0.892784  0.856154  0.057338"
      ]
     },
     "execution_count": 30,
     "metadata": {},
     "output_type": "execute_result"
    }
   ],
   "source": [
    "# Collect results in a DataFrame\n",
    "logreg_results = pd.DataFrame(\n",
    "    {\n",
    "        \"C\": logreg_gscv.cv_results_[\"param_logreg__C\"],\n",
    "        \"mean_tr\": logreg_gscv.cv_results_[\"mean_train_score\"],\n",
    "        \"mean_te\": logreg_gscv.cv_results_[\"mean_test_score\"],\n",
    "        \"std_te\": logreg_gscv.cv_results_[\"std_test_score\"],\n",
    "    }\n",
    ")\n",
    "\n",
    "# Ten best combinations according to the mean test score\n",
    "logreg_results.sort_values(by=\"mean_te\", ascending=False).head(5)"
   ]
  },
  {
   "cell_type": "code",
   "execution_count": 31,
   "id": "4e85afd9-c5bb-48ea-a251-242ee7128bf2",
   "metadata": {},
   "outputs": [
    {
     "data": {
      "image/png": "[encoded data removed]",
      "text/plain": [
       "<Figure size 504x360 with 1 Axes>"
      ]
     },
     "metadata": {
      "needs_background": "light"
     },
     "output_type": "display_data"
    }
   ],
   "source": [
    "%matplotlib inline\n",
    "import matplotlib.pyplot as plt\n",
    "\n",
    "plt.figure(figsize=(7,5))\n",
    "\n",
    "# Plot training/validation accuracy curves\n",
    "plt.semilogx(logreg_results[\"C\"], logreg_results[\"mean_tr\"], label='training accuracy')\n",
    "plt.semilogx(logreg_results[\"C\"], logreg_results[\"mean_te\"],  label='validation accuracy')\n",
    "\n",
    "plt.xlabel('Regularization strength (C)')\n",
    "plt.ylabel('Accuracy')\n",
    "plt.legend(bbox_to_anchor=(1.45,1), loc=\"upper right\")\n",
    "plt.title(\"Evolution of training/validation accuracy with $C$\")\n",
    "plt.show()"
   ]
  },
  {
   "cell_type": "code",
   "execution_count": 32,
   "id": "f80f6468-c9c5-4619-8630-9623acbc822c",
   "metadata": {},
   "outputs": [
    {
     "name": "stdout",
     "output_type": "stream",
     "text": [
      "Test score 78.378\n",
      "              precision    recall  f1-score   support\n",
      "\n",
      "           0       0.66      0.75      0.70        28\n",
      "           1       0.40      0.44      0.42         9\n",
      "           2       0.90      0.84      0.87        74\n",
      "\n",
      "    accuracy                           0.78       111\n",
      "   macro avg       0.65      0.68      0.66       111\n",
      "weighted avg       0.80      0.78      0.79       111\n",
      "\n"
     ]
    }
   ],
   "source": [
    "from sklearn.metrics import classification_report\n",
    "\n",
    "logreg_gscv.predict(X_te_metabolite_not_lipid)\n",
    "\n",
    "test_score_logreg_metabolite=logreg_gscv.score(X_te_metabolite_not_lipid, y_te)*100\n",
    "print('Test score', np.round(test_score_logreg_metabolite,3))\n",
    "\n",
    "# Classification report\n",
    "y_te_preds_logreg_metabolite = logreg_gscv.predict(X_te_metabolite_not_lipid)\n",
    "print(classification_report(y_true=y_te, y_pred=y_te_preds_logreg_metabolite))\n",
    "\n",
    "# Extract probabilities\n",
    "prob_logreg_metabolite = logreg_gscv.predict_proba(X_te_metabolite_not_lipid)"
   ]
  },
  {
   "cell_type": "code",
   "execution_count": 33,
   "id": "7c66afa3-6825-46c7-b2d9-9db6f1253462",
   "metadata": {},
   "outputs": [
    {
     "data": {
      "image/png": "[encoded data removed]",
      "text/plain": [
       "<Figure size 864x288 with 4 Axes>"
      ]
     },
     "metadata": {
      "needs_background": "light"
     },
     "output_type": "display_data"
    }
   ],
   "source": [
    "from sklearn.metrics import ConfusionMatrixDisplay\n",
    "\n",
    "# Create two subplots\n",
    "f, (ax1, ax2) = plt.subplots(1, 2, figsize=(12, 4))\n",
    "\n",
    "# Plots the standard confusion matrix\n",
    "ax1.set_title(\"Confusion Matrix (counts)\")\n",
    "ConfusionMatrixDisplay.from_predictions(\n",
    "    y_te, logreg_gscv.predict(X_te_metabolite_not_lipid), display_labels=['Post-COV','post acute', 'acute'], ax=ax1)\n",
    "\n",
    "# Plots the normalized confusion matrix\n",
    "ax2.set_title(\"Confusion Matrix (ratios)\")\n",
    "ConfusionMatrixDisplay.from_predictions(\n",
    "    y_te, logreg_gscv.predict(X_te_metabolite_not_lipid), normalize=\"true\", display_labels=['Post-COV','post acute', 'acute'], ax=ax2)\n",
    "\n",
    "plt.show()"
   ]
  },
  {
   "cell_type": "markdown",
   "id": "3f4450a6-c893-4213-9611-fa94e5e0b453",
   "metadata": {},
   "source": [
    "**Comment:** \n",
    "When only small metabolites and aminoacids are used to fit the model, three more post-COVID patients are misclassfied as being in the acute phase of infection. Two more in the acute phase are misclassified as post-COVID and three less as being in the post acute phase. "
   ]
  },
  {
   "cell_type": "markdown",
   "id": "47e060ac-dc75-4999-b0fa-d735bd9aceec",
   "metadata": {
    "tags": []
   },
   "source": [
    "# Lipids only"
   ]
  },
  {
   "cell_type": "code",
   "execution_count": 34,
   "id": "6320c831-0cc0-4804-8852-0ca7a0e6a3b8",
   "metadata": {},
   "outputs": [
    {
     "name": "stdout",
     "output_type": "stream",
     "text": [
      "Shape of train data with lipid features only (257, 114)\n"
     ]
    }
   ],
   "source": [
    "%store -r lipid\n",
    "\n",
    "X_tr_lipid=X_tr[lipid]\n",
    "print('Shape of train data with lipid features only', X_tr_lipid.shape)\n",
    "X_te_lipid=X_te[lipid]"
   ]
  },
  {
   "cell_type": "code",
   "execution_count": 35,
   "id": "e8259eed-2f74-4ecb-b06d-ec68ebc2a987",
   "metadata": {},
   "outputs": [
    {
     "name": "stdout",
     "output_type": "stream",
     "text": [
      "Fitting 10 folds for each of 20 candidates, totalling 200 fits\n"
     ]
    },
    {
     "data": {
      "text/html": [
       "<style>#sk-container-id-4 {color: black;background-color: white;}#sk-container-id-4 pre{padding: 0;}#sk-container-id-4 div.sk-toggleable {background-color: white;}#sk-container-id-4 label.sk-toggleable__label {cursor: pointer;display: block;width: 100%;margin-bottom: 0;padding: 0.3em;box-sizing: border-box;text-align: center;}#sk-container-id-4 label.sk-toggleable__label-arrow:before {content: \"▸\";float: left;margin-right: 0.25em;color: #696969;}#sk-container-id-4 label.sk-toggleable__label-arrow:hover:before {color: black;}#sk-container-id-4 div.sk-estimator:hover label.sk-toggleable__label-arrow:before {color: black;}#sk-container-id-4 div.sk-toggleable__content {max-height: 0;max-width: 0;overflow: hidden;text-align: left;background-color: #f0f8ff;}#sk-container-id-4 div.sk-toggleable__content pre {margin: 0.2em;color: black;border-radius: 0.25em;background-color: #f0f8ff;}#sk-container-id-4 input.sk-toggleable__control:checked~div.sk-toggleable__content {max-height: 200px;max-width: 100%;overflow: auto;}#sk-container-id-4 input.sk-toggleable__control:checked~label.sk-toggleable__label-arrow:before {content: \"▾\";}#sk-container-id-4 div.sk-estimator input.sk-toggleable__control:checked~label.sk-toggleable__label {background-color: #d4ebff;}#sk-container-id-4 div.sk-label input.sk-toggleable__control:checked~label.sk-toggleable__label {background-color: #d4ebff;}#sk-container-id-4 input.sk-hidden--visually {border: 0;clip: rect(1px 1px 1px 1px);clip: rect(1px, 1px, 1px, 1px);height: 1px;margin: -1px;overflow: hidden;padding: 0;position: absolute;width: 1px;}#sk-container-id-4 div.sk-estimator {font-family: monospace;background-color: #f0f8ff;border: 1px dotted black;border-radius: 0.25em;box-sizing: border-box;margin-bottom: 0.5em;}#sk-container-id-4 div.sk-estimator:hover {background-color: #d4ebff;}#sk-container-id-4 div.sk-parallel-item::after {content: \"\";width: 100%;border-bottom: 1px solid gray;flex-grow: 1;}#sk-container-id-4 div.sk-label:hover label.sk-toggleable__label {background-color: #d4ebff;}#sk-container-id-4 div.sk-serial::before {content: \"\";position: absolute;border-left: 1px solid gray;box-sizing: border-box;top: 0;bottom: 0;left: 50%;z-index: 0;}#sk-container-id-4 div.sk-serial {display: flex;flex-direction: column;align-items: center;background-color: white;padding-right: 0.2em;padding-left: 0.2em;position: relative;}#sk-container-id-4 div.sk-item {position: relative;z-index: 1;}#sk-container-id-4 div.sk-parallel {display: flex;align-items: stretch;justify-content: center;background-color: white;position: relative;}#sk-container-id-4 div.sk-item::before, #sk-container-id-4 div.sk-parallel-item::before {content: \"\";position: absolute;border-left: 1px solid gray;box-sizing: border-box;top: 0;bottom: 0;left: 50%;z-index: -1;}#sk-container-id-4 div.sk-parallel-item {display: flex;flex-direction: column;z-index: 1;position: relative;background-color: white;}#sk-container-id-4 div.sk-parallel-item:first-child::after {align-self: flex-end;width: 50%;}#sk-container-id-4 div.sk-parallel-item:last-child::after {align-self: flex-start;width: 50%;}#sk-container-id-4 div.sk-parallel-item:only-child::after {width: 0;}#sk-container-id-4 div.sk-dashed-wrapped {border: 1px dashed gray;margin: 0 0.4em 0.5em 0.4em;box-sizing: border-box;padding-bottom: 0.4em;background-color: white;}#sk-container-id-4 div.sk-label label {font-family: monospace;font-weight: bold;display: inline-block;line-height: 1.2em;}#sk-container-id-4 div.sk-label-container {text-align: center;}#sk-container-id-4 div.sk-container {/* jupyter's `normalize.less` sets `[hidden] { display: none; }` but bootstrap.min.css set `[hidden] { display: none !important; }` so we also need the `!important` here to be able to override the default hidden behavior on the sphinx rendered scikit-learn.org. See: https://github.com/scikit-learn/scikit-learn/issues/21755 */display: inline-block !important;position: relative;}#sk-container-id-4 div.sk-text-repr-fallback {display: none;}</style><div id=\"sk-container-id-4\" class=\"sk-top-container\"><div class=\"sk-text-repr-fallback\"><pre>GridSearchCV(cv=10,\n",
       "             estimator=Pipeline(steps=[(&#x27;scaler&#x27;, StandardScaler()),\n",
       "                                       (&#x27;logreg&#x27;,\n",
       "                                        LogisticRegression(class_weight=&#x27;balanced&#x27;))]),\n",
       "             param_grid=[{&#x27;logreg__C&#x27;: array([1.00000000e-03, 2.06913808e-03, 4.28133240e-03, 8.85866790e-03,\n",
       "       1.83298071e-02, 3.79269019e-02, 7.84759970e-02, 1.62377674e-01,\n",
       "       3.35981829e-01, 6.95192796e-01, 1.43844989e+00, 2.97635144e+00,\n",
       "       6.15848211e+00, 1.27427499e+01, 2.63665090e+01, 5.45559478e+01,\n",
       "       1.12883789e+02, 2.33572147e+02, 4.83293024e+02, 1.00000000e+03]),\n",
       "                          &#x27;logreg__multi_class&#x27;: [&#x27;ovr&#x27;],\n",
       "                          &#x27;logreg__penalty&#x27;: [&#x27;l2&#x27;],\n",
       "                          &#x27;logreg__solver&#x27;: [&#x27;liblinear&#x27;]}],\n",
       "             return_train_score=True, verbose=1)</pre><b>In a Jupyter environment, please rerun this cell to show the HTML representation or trust the notebook. <br />On GitHub, the HTML representation is unable to render, please try loading this page with nbviewer.org.</b></div><div class=\"sk-container\" hidden><div class=\"sk-item sk-dashed-wrapped\"><div class=\"sk-label-container\"><div class=\"sk-label sk-toggleable\"><input class=\"sk-toggleable__control sk-hidden--visually\" id=\"sk-estimator-id-10\" type=\"checkbox\" ><label for=\"sk-estimator-id-10\" class=\"sk-toggleable__label sk-toggleable__label-arrow\">GridSearchCV</label><div class=\"sk-toggleable__content\"><pre>GridSearchCV(cv=10,\n",
       "             estimator=Pipeline(steps=[(&#x27;scaler&#x27;, StandardScaler()),\n",
       "                                       (&#x27;logreg&#x27;,\n",
       "                                        LogisticRegression(class_weight=&#x27;balanced&#x27;))]),\n",
       "             param_grid=[{&#x27;logreg__C&#x27;: array([1.00000000e-03, 2.06913808e-03, 4.28133240e-03, 8.85866790e-03,\n",
       "       1.83298071e-02, 3.79269019e-02, 7.84759970e-02, 1.62377674e-01,\n",
       "       3.35981829e-01, 6.95192796e-01, 1.43844989e+00, 2.97635144e+00,\n",
       "       6.15848211e+00, 1.27427499e+01, 2.63665090e+01, 5.45559478e+01,\n",
       "       1.12883789e+02, 2.33572147e+02, 4.83293024e+02, 1.00000000e+03]),\n",
       "                          &#x27;logreg__multi_class&#x27;: [&#x27;ovr&#x27;],\n",
       "                          &#x27;logreg__penalty&#x27;: [&#x27;l2&#x27;],\n",
       "                          &#x27;logreg__solver&#x27;: [&#x27;liblinear&#x27;]}],\n",
       "             return_train_score=True, verbose=1)</pre></div></div></div><div class=\"sk-parallel\"><div class=\"sk-parallel-item\"><div class=\"sk-item\"><div class=\"sk-label-container\"><div class=\"sk-label sk-toggleable\"><input class=\"sk-toggleable__control sk-hidden--visually\" id=\"sk-estimator-id-11\" type=\"checkbox\" ><label for=\"sk-estimator-id-11\" class=\"sk-toggleable__label sk-toggleable__label-arrow\">estimator: Pipeline</label><div class=\"sk-toggleable__content\"><pre>Pipeline(steps=[(&#x27;scaler&#x27;, StandardScaler()),\n",
       "                (&#x27;logreg&#x27;, LogisticRegression(class_weight=&#x27;balanced&#x27;))])</pre></div></div></div><div class=\"sk-serial\"><div class=\"sk-item\"><div class=\"sk-serial\"><div class=\"sk-item\"><div class=\"sk-estimator sk-toggleable\"><input class=\"sk-toggleable__control sk-hidden--visually\" id=\"sk-estimator-id-12\" type=\"checkbox\" ><label for=\"sk-estimator-id-12\" class=\"sk-toggleable__label sk-toggleable__label-arrow\">StandardScaler</label><div class=\"sk-toggleable__content\"><pre>StandardScaler()</pre></div></div></div><div class=\"sk-item\"><div class=\"sk-estimator sk-toggleable\"><input class=\"sk-toggleable__control sk-hidden--visually\" id=\"sk-estimator-id-13\" type=\"checkbox\" ><label for=\"sk-estimator-id-13\" class=\"sk-toggleable__label sk-toggleable__label-arrow\">LogisticRegression</label><div class=\"sk-toggleable__content\"><pre>LogisticRegression(class_weight=&#x27;balanced&#x27;)</pre></div></div></div></div></div></div></div></div></div></div></div></div>"
      ],
      "text/plain": [
       "GridSearchCV(cv=10,\n",
       "             estimator=Pipeline(steps=[('scaler', StandardScaler()),\n",
       "                                       ('logreg',\n",
       "                                        LogisticRegression(class_weight='balanced'))]),\n",
       "             param_grid=[{'logreg__C': array([1.00000000e-03, 2.06913808e-03, 4.28133240e-03, 8.85866790e-03,\n",
       "       1.83298071e-02, 3.79269019e-02, 7.84759970e-02, 1.62377674e-01,\n",
       "       3.35981829e-01, 6.95192796e-01, 1.43844989e+00, 2.97635144e+00,\n",
       "       6.15848211e+00, 1.27427499e+01, 2.63665090e+01, 5.45559478e+01,\n",
       "       1.12883789e+02, 2.33572147e+02, 4.83293024e+02, 1.00000000e+03]),\n",
       "                          'logreg__multi_class': ['ovr'],\n",
       "                          'logreg__penalty': ['l2'],\n",
       "                          'logreg__solver': ['liblinear']}],\n",
       "             return_train_score=True, verbose=1)"
      ]
     },
     "execution_count": 35,
     "metadata": {},
     "output_type": "execute_result"
    }
   ],
   "source": [
    "# Fit estimator\n",
    "logreg_gscv.fit(X_tr_lipid, y_tr)"
   ]
  },
  {
   "cell_type": "code",
   "execution_count": 36,
   "id": "2392d3d5-0b01-4f03-b7ac-38153593ef15",
   "metadata": {},
   "outputs": [
    {
     "data": {
      "text/html": [
       "<div>\n",
       "<style scoped>\n",
       "    .dataframe tbody tr th:only-of-type {\n",
       "        vertical-align: middle;\n",
       "    }\n",
       "\n",
       "    .dataframe tbody tr th {\n",
       "        vertical-align: top;\n",
       "    }\n",
       "\n",
       "    .dataframe thead th {\n",
       "        text-align: right;\n",
       "    }\n",
       "</style>\n",
       "<table border=\"1\" class=\"dataframe\">\n",
       "  <thead>\n",
       "    <tr style=\"text-align: right;\">\n",
       "      <th></th>\n",
       "      <th>C</th>\n",
       "      <th>mean_tr</th>\n",
       "      <th>mean_te</th>\n",
       "      <th>std_te</th>\n",
       "    </tr>\n",
       "  </thead>\n",
       "  <tbody>\n",
       "    <tr>\n",
       "      <th>9</th>\n",
       "      <td>0.695193</td>\n",
       "      <td>0.915702</td>\n",
       "      <td>0.848769</td>\n",
       "      <td>0.062629</td>\n",
       "    </tr>\n",
       "    <tr>\n",
       "      <th>7</th>\n",
       "      <td>0.162378</td>\n",
       "      <td>0.893654</td>\n",
       "      <td>0.844923</td>\n",
       "      <td>0.063841</td>\n",
       "    </tr>\n",
       "    <tr>\n",
       "      <th>10</th>\n",
       "      <td>1.43845</td>\n",
       "      <td>0.923052</td>\n",
       "      <td>0.840923</td>\n",
       "      <td>0.065261</td>\n",
       "    </tr>\n",
       "    <tr>\n",
       "      <th>8</th>\n",
       "      <td>0.335982</td>\n",
       "      <td>0.906619</td>\n",
       "      <td>0.837077</td>\n",
       "      <td>0.058653</td>\n",
       "    </tr>\n",
       "    <tr>\n",
       "      <th>6</th>\n",
       "      <td>0.078476</td>\n",
       "      <td>0.875062</td>\n",
       "      <td>0.833385</td>\n",
       "      <td>0.076401</td>\n",
       "    </tr>\n",
       "  </tbody>\n",
       "</table>\n",
       "</div>"
      ],
      "text/plain": [
       "           C   mean_tr   mean_te    std_te\n",
       "9   0.695193  0.915702  0.848769  0.062629\n",
       "7   0.162378  0.893654  0.844923  0.063841\n",
       "10   1.43845  0.923052  0.840923  0.065261\n",
       "8   0.335982  0.906619  0.837077  0.058653\n",
       "6   0.078476  0.875062  0.833385  0.076401"
      ]
     },
     "execution_count": 36,
     "metadata": {},
     "output_type": "execute_result"
    }
   ],
   "source": [
    "# Collect results in a DataFrame\n",
    "logreg_results = pd.DataFrame(\n",
    "    {\n",
    "        \"C\": logreg_gscv.cv_results_[\"param_logreg__C\"],\n",
    "        \"mean_tr\": logreg_gscv.cv_results_[\"mean_train_score\"],\n",
    "        \"mean_te\": logreg_gscv.cv_results_[\"mean_test_score\"],\n",
    "        \"std_te\": logreg_gscv.cv_results_[\"std_test_score\"],\n",
    "    }\n",
    ")\n",
    "\n",
    "# Ten best combinations according to the mean test score\n",
    "logreg_results.sort_values(by=\"mean_te\", ascending=False).head(5)"
   ]
  },
  {
   "cell_type": "code",
   "execution_count": 37,
   "id": "696b9058-34c5-4b11-8b0a-4989174f077b",
   "metadata": {},
   "outputs": [
    {
     "data": {
      "image/png": "[encoded data removed]",
      "text/plain": [
       "<Figure size 504x360 with 1 Axes>"
      ]
     },
     "metadata": {
      "needs_background": "light"
     },
     "output_type": "display_data"
    }
   ],
   "source": [
    "%matplotlib inline\n",
    "import matplotlib.pyplot as plt\n",
    "\n",
    "plt.figure(figsize=(7,5))\n",
    "\n",
    "# Plot training/validation accuracy curves\n",
    "plt.semilogx(logreg_results[\"C\"], logreg_results[\"mean_tr\"], label='training accuracy')\n",
    "plt.semilogx(logreg_results[\"C\"], logreg_results[\"mean_te\"],  label='validation accuracy')\n",
    "\n",
    "plt.xlabel('Regularization strength (C)')\n",
    "plt.legend(bbox_to_anchor=(1.45,1), loc=\"upper right\")\n",
    "#plt.ylabel('Accuracy')\n",
    "plt.title(\"Evolution of training/validation accuracy with $C$\")\n",
    "plt.show()"
   ]
  },
  {
   "cell_type": "code",
   "execution_count": 38,
   "id": "3e9ae21a-b462-427d-9078-56c3bcc72f60",
   "metadata": {},
   "outputs": [
    {
     "name": "stdout",
     "output_type": "stream",
     "text": [
      "Test score 82.883\n",
      "              precision    recall  f1-score   support\n",
      "\n",
      "           0       0.74      0.82      0.78        28\n",
      "           1       0.60      0.33      0.43         9\n",
      "           2       0.88      0.89      0.89        74\n",
      "\n",
      "    accuracy                           0.83       111\n",
      "   macro avg       0.74      0.68      0.70       111\n",
      "weighted avg       0.82      0.83      0.82       111\n",
      "\n"
     ]
    }
   ],
   "source": [
    "from sklearn.metrics import classification_report\n",
    "\n",
    "logreg_gscv.predict(X_te_lipid)\n",
    "\n",
    "test_score_logreg_lipid=logreg_gscv.score(X_te_lipid, y_te)*100\n",
    "print('Test score', np.round(test_score_logreg_lipid,3))\n",
    "\n",
    "# Classification report\n",
    "y_te_preds_logreg_lipid = logreg_gscv.predict(X_te_lipid)\n",
    "print(classification_report(y_true=y_te, y_pred=y_te_preds_logreg_lipid))\n",
    "\n",
    "# Extract probabilities\n",
    "prob_logreg_lipid = logreg_gscv.predict_proba(X_te_lipid)"
   ]
  },
  {
   "cell_type": "code",
   "execution_count": 39,
   "id": "2eb4ca08-7f91-4505-820c-f51109b8b4d2",
   "metadata": {},
   "outputs": [
    {
     "data": {
      "image/png": "[encoded data removed]",
      "text/plain": [
       "<Figure size 864x288 with 4 Axes>"
      ]
     },
     "metadata": {
      "needs_background": "light"
     },
     "output_type": "display_data"
    }
   ],
   "source": [
    "from sklearn.metrics import ConfusionMatrixDisplay\n",
    "\n",
    "# Create two subplots\n",
    "f, (ax1, ax2) = plt.subplots(1, 2, figsize=(12, 4))\n",
    "\n",
    "# Plots the standard confusion matrix\n",
    "ax1.set_title(\"Confusion Matrix (counts)\")\n",
    "ConfusionMatrixDisplay.from_predictions(\n",
    "    y_te, logreg_gscv.predict(X_te_lipid), display_labels=['Post-COV','post acute', 'acute'], ax=ax1)\n",
    "\n",
    "# Plots the normalized confusion matrix\n",
    "ax2.set_title(\"Confusion Matrix (ratios)\")\n",
    "ConfusionMatrixDisplay.from_predictions(\n",
    "    y_te, logreg_gscv.predict(X_te_lipid), normalize=\"true\", display_labels=['Post-COV','post acute', 'acute'], ax=ax2)\n",
    "\n",
    "plt.show()"
   ]
  },
  {
   "cell_type": "markdown",
   "id": "56e516a4-3058-44d9-a29d-359a9849b3eb",
   "metadata": {},
   "source": [
    "**Comment:** \n",
    "When only lipids are used, the overall accuracy of the model increases as does the recall for classfication of teh patients in teh caute pahse of infection. The model predicts only 5 post acute phase patients, three of them correctly. "
   ]
  },
  {
   "cell_type": "code",
   "execution_count": null,
   "id": "c008386d-940b-4cb2-b012-1d5b587386fa",
   "metadata": {},
   "outputs": [],
   "source": []
  },
  {
   "cell_type": "code",
   "execution_count": null,
   "id": "a6bd7155-d348-44a1-a41b-31e1f912e81c",
   "metadata": {},
   "outputs": [],
   "source": []
  },
  {
   "cell_type": "code",
   "execution_count": null,
   "id": "1afc308c-8799-404d-b848-5cd0347d07ea",
   "metadata": {},
   "outputs": [],
   "source": []
  },
  {
   "cell_type": "code",
   "execution_count": null,
   "id": "6bd25a3d-56f4-4b9f-9c35-052a2430721f",
   "metadata": {},
   "outputs": [],
   "source": []
  }
 ],
 "metadata": {
  "kernelspec": {
   "display_name": "Python [conda env:adsml] *",
   "language": "python",
   "name": "conda-env-adsml-py"
  },
  "language_info": {
   "codemirror_mode": {
    "name": "ipython",
    "version": 3
   },
   "file_extension": ".py",
   "mimetype": "text/x-python",
   "name": "python",
   "nbconvert_exporter": "python",
   "pygments_lexer": "ipython3",
   "version": "3.9.7"
  }
 },
 "nbformat": 4,
 "nbformat_minor": 5
}
