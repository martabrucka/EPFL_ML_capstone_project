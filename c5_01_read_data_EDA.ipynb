{
 "cells": [
  {
   "cell_type": "markdown",
   "id": "81d6e24e-b631-4bf1-9dbe-c1ae2aacf33d",
   "metadata": {},
   "source": [
    "# Load data and create the 'data' DataFrame"
   ]
  },
  {
   "cell_type": "code",
   "execution_count": 1,
   "id": "b3ad73c4-4b29-40ff-a724-8d2ade232b7c",
   "metadata": {},
   "outputs": [],
   "source": [
    "import pandas as pd\n",
    "import numpy as np\n",
    "import os\n",
    "import matplotlib.pyplot as plt\n",
    "import seaborn as sns\n",
    "%matplotlib inline"
   ]
  },
  {
   "cell_type": "code",
   "execution_count": 2,
   "id": "ab80d007-cd6e-4357-b76e-22d2963bba2a",
   "metadata": {},
   "outputs": [],
   "source": [
    "#!pip install mwtab"
   ]
  },
  {
   "cell_type": "code",
   "execution_count": 3,
   "id": "4608d630-1004-4c0d-a12a-617192d5ad4f",
   "metadata": {},
   "outputs": [
    {
     "data": {
      "text/plain": [
       "['METABOLOMICS WORKBENCH',\n",
       " 'PROJECT',\n",
       " 'STUDY',\n",
       " 'SUBJECT',\n",
       " 'SUBJECT_SAMPLE_FACTORS',\n",
       " 'COLLECTION',\n",
       " 'TREATMENT',\n",
       " 'SAMPLEPREP',\n",
       " 'ANALYSIS',\n",
       " 'NM',\n",
       " 'NMR_METABOLITE_DATA']"
      ]
     },
     "execution_count": 3,
     "metadata": {},
     "output_type": "execute_result"
    }
   ],
   "source": [
    "import mwtab\n",
    "\n",
    "mwfile = next(mwtab.read_files(\"ST002087_AN003405.txt\"))\n",
    "\n",
    "# list MWTabFile-level keys, i.e. saveframe names\n",
    "list(mwfile.keys())"
   ]
  },
  {
   "cell_type": "code",
   "execution_count": 4,
   "id": "cde93ca1-a4c3-4d4e-8055-a866865bea9d",
   "metadata": {},
   "outputs": [
    {
     "data": {
      "text/plain": [
       "OrderedDict([('PROJECT_TITLE',\n",
       "              'Profiling metabolites and lipoproteins in COMETA, an Italian cohort of COVID-19 patients'),\n",
       "             ('PROJECT_TYPE', 'NMR-based metabolomics'),\n",
       "             ('PROJECT_SUMMARY',\n",
       "              '1H NMR spectra of EDTA-plasma from 246 COVID-19-positive subjects in the acute phase of infection were compared to those of 95 COVID-19-recovered subjects. The two cohorts are largely different (discrimination accuracy &gt; 93%) due to a pool of 16 metabolites and 74 lipoprotein parameters significantly up- or down-regulated in the patients and within the healthy range in the recovered subjects. In 28 post-acute COVID-19-positive patients, the metabolites levels are reverted back to normality whereas the lipoprotein parameters are still altered. Therefore, the metabolite biomarkers might be used as the timeliest sign of the individual response to treatment or spontaneous healing.'),\n",
       "             ('INSTITUTE', 'University of Florence'),\n",
       "             ('DEPARTMENT', 'Department of Chemistry'),\n",
       "             ('LABORATORY', 'Metabolomics'),\n",
       "             ('LAST_NAME', 'Ghini'),\n",
       "             ('FIRST_NAME', 'Veronica'),\n",
       "             ('ADDRESS', 'via Luigi Sacconi 6'),\n",
       "             ('EMAIL', 'ghini@cerm.unifi.it'),\n",
       "             ('PHONE', '+390554574266'),\n",
       "             ('FUNDING_SOURCE',\n",
       "              'COMETA project, funded by the Tuscany Region,Italy')])"
      ]
     },
     "execution_count": 4,
     "metadata": {},
     "output_type": "execute_result"
    }
   ],
   "source": [
    "# access \"PROJECT\" block\n",
    "mwfile[\"PROJECT\"]"
   ]
  },
  {
   "cell_type": "code",
   "execution_count": 5,
   "id": "d3f62d97-a007-49af-be68-de0ac193c2d3",
   "metadata": {},
   "outputs": [
    {
     "data": {
      "text/plain": [
       "odict_keys(['Subject ID', 'Sample ID', 'Factors', 'Additional sample data'])"
      ]
     },
     "execution_count": 5,
     "metadata": {},
     "output_type": "execute_result"
    }
   ],
   "source": [
    "# access \"SUBJECT_SAMPLE_FACTORS\" block and print first three\n",
    "mwfile[\"SUBJECT_SAMPLE_FACTORS\"][0].keys()"
   ]
  },
  {
   "cell_type": "code",
   "execution_count": 6,
   "id": "aad09669-e9d8-47fe-aa8b-500451484841",
   "metadata": {},
   "outputs": [
    {
     "data": {
      "text/plain": [
       "odict_values(['6', '6', {'Grade of severity': 'Asymptomatic', 'Group': 'COVID-19&lt;21days'}, {'RAW_FILE_NAME': '6', 'SEX': 'male', 'AGE': '72'}])"
      ]
     },
     "execution_count": 6,
     "metadata": {},
     "output_type": "execute_result"
    }
   ],
   "source": [
    "mwfile[\"SUBJECT_SAMPLE_FACTORS\"][0].values()"
   ]
  },
  {
   "cell_type": "code",
   "execution_count": 7,
   "id": "20183eed-8eff-4fdf-be39-9fb19a357b5f",
   "metadata": {},
   "outputs": [],
   "source": [
    "# Extract values from the dictionary\n",
    "sample_id_all=[]\n",
    "severity_all=[]\n",
    "group_all=[]\n",
    "sex_all=[]\n",
    "age_all=[]\n",
    "\n",
    "for i in range(len(mwfile[\"SUBJECT_SAMPLE_FACTORS\"])):\n",
    "    \n",
    "    temp_list=list(mwfile[\"SUBJECT_SAMPLE_FACTORS\"][i].values())[1:]\n",
    "    \n",
    "    sample_id=temp_list[0]\n",
    "    sample_id_all.append(sample_id)\n",
    "    \n",
    "    severity=list(temp_list[1].values())[0]\n",
    "    severity_all.append(severity)\n",
    "    \n",
    "    group=list(temp_list[1].values())[1]\n",
    "    group_all.append(group)\n",
    "    \n",
    "    sex=list(temp_list[2].values())[1]\n",
    "    sex_all.append(sex)\n",
    "    \n",
    "    age=list(temp_list[2].values())[2]\n",
    "    age_all.append(age)"
   ]
  },
  {
   "cell_type": "code",
   "execution_count": 8,
   "id": "b447a281-577c-49f9-9d94-928f4132273d",
   "metadata": {},
   "outputs": [
    {
     "data": {
      "text/html": [
       "<div>\n",
       "<style scoped>\n",
       "    .dataframe tbody tr th:only-of-type {\n",
       "        vertical-align: middle;\n",
       "    }\n",
       "\n",
       "    .dataframe tbody tr th {\n",
       "        vertical-align: top;\n",
       "    }\n",
       "\n",
       "    .dataframe thead th {\n",
       "        text-align: right;\n",
       "    }\n",
       "</style>\n",
       "<table border=\"1\" class=\"dataframe\">\n",
       "  <thead>\n",
       "    <tr style=\"text-align: right;\">\n",
       "      <th></th>\n",
       "      <th>sample_id</th>\n",
       "      <th>severity</th>\n",
       "      <th>group</th>\n",
       "      <th>sex</th>\n",
       "      <th>age</th>\n",
       "    </tr>\n",
       "  </thead>\n",
       "  <tbody>\n",
       "    <tr>\n",
       "      <th>0</th>\n",
       "      <td>6</td>\n",
       "      <td>Asymptomatic</td>\n",
       "      <td>COVID-19&amp;lt;21days</td>\n",
       "      <td>male</td>\n",
       "      <td>72</td>\n",
       "    </tr>\n",
       "    <tr>\n",
       "      <th>1</th>\n",
       "      <td>7</td>\n",
       "      <td>Asymptomatic</td>\n",
       "      <td>COVID-19&amp;lt;21days</td>\n",
       "      <td>female</td>\n",
       "      <td>89</td>\n",
       "    </tr>\n",
       "    <tr>\n",
       "      <th>2</th>\n",
       "      <td>9</td>\n",
       "      <td>Asymptomatic</td>\n",
       "      <td>COVID-19&amp;lt;21days</td>\n",
       "      <td>female</td>\n",
       "      <td>82</td>\n",
       "    </tr>\n",
       "    <tr>\n",
       "      <th>3</th>\n",
       "      <td>19</td>\n",
       "      <td>Asymptomatic</td>\n",
       "      <td>COVID-19&amp;lt;21days</td>\n",
       "      <td>male</td>\n",
       "      <td>56</td>\n",
       "    </tr>\n",
       "    <tr>\n",
       "      <th>4</th>\n",
       "      <td>20</td>\n",
       "      <td>Asymptomatic</td>\n",
       "      <td>COVID-19&amp;lt;21days</td>\n",
       "      <td>male</td>\n",
       "      <td>87</td>\n",
       "    </tr>\n",
       "    <tr>\n",
       "      <th>...</th>\n",
       "      <td>...</td>\n",
       "      <td>...</td>\n",
       "      <td>...</td>\n",
       "      <td>...</td>\n",
       "      <td>...</td>\n",
       "    </tr>\n",
       "    <tr>\n",
       "      <th>363</th>\n",
       "      <td>181</td>\n",
       "      <td>Severe</td>\n",
       "      <td>Post-COVID-109</td>\n",
       "      <td>female</td>\n",
       "      <td>74</td>\n",
       "    </tr>\n",
       "    <tr>\n",
       "      <th>364</th>\n",
       "      <td>189</td>\n",
       "      <td>Severe</td>\n",
       "      <td>Post-COVID-110</td>\n",
       "      <td>male</td>\n",
       "      <td>57</td>\n",
       "    </tr>\n",
       "    <tr>\n",
       "      <th>365</th>\n",
       "      <td>278</td>\n",
       "      <td>Severe</td>\n",
       "      <td>Post-COVID-111</td>\n",
       "      <td>male</td>\n",
       "      <td>72</td>\n",
       "    </tr>\n",
       "    <tr>\n",
       "      <th>366</th>\n",
       "      <td>279</td>\n",
       "      <td>Severe</td>\n",
       "      <td>Post-COVID-112</td>\n",
       "      <td>male</td>\n",
       "      <td>79</td>\n",
       "    </tr>\n",
       "    <tr>\n",
       "      <th>367</th>\n",
       "      <td>327</td>\n",
       "      <td>Severe</td>\n",
       "      <td>Post-COVID-113</td>\n",
       "      <td>male</td>\n",
       "      <td>53</td>\n",
       "    </tr>\n",
       "  </tbody>\n",
       "</table>\n",
       "<p>368 rows × 5 columns</p>\n",
       "</div>"
      ],
      "text/plain": [
       "    sample_id      severity               group     sex age\n",
       "0           6  Asymptomatic  COVID-19&lt;21days    male  72\n",
       "1           7  Asymptomatic  COVID-19&lt;21days  female  89\n",
       "2           9  Asymptomatic  COVID-19&lt;21days  female  82\n",
       "3          19  Asymptomatic  COVID-19&lt;21days    male  56\n",
       "4          20  Asymptomatic  COVID-19&lt;21days    male  87\n",
       "..        ...           ...                 ...     ...  ..\n",
       "363       181        Severe      Post-COVID-109  female  74\n",
       "364       189        Severe      Post-COVID-110    male  57\n",
       "365       278        Severe      Post-COVID-111    male  72\n",
       "366       279        Severe      Post-COVID-112    male  79\n",
       "367       327        Severe      Post-COVID-113    male  53\n",
       "\n",
       "[368 rows x 5 columns]"
      ]
     },
     "execution_count": 8,
     "metadata": {},
     "output_type": "execute_result"
    }
   ],
   "source": [
    "# Make DataFrame\n",
    "df_patients_info=pd.DataFrame(sample_id_all, columns=[\"sample_id\"])\n",
    "df_patients_info[\"severity\"]=severity_all\n",
    "df_patients_info[\"group\"]=group_all\n",
    "df_patients_info[\"sex\"]=sex_all\n",
    "df_patients_info[\"age\"]=age_all\n",
    "\n",
    "df_patients_info"
   ]
  },
  {
   "cell_type": "code",
   "execution_count": 9,
   "id": "df388bae-12bf-40d4-86c2-39ec37a08369",
   "metadata": {},
   "outputs": [],
   "source": [
    "# Fix the strings in the 'group' column\n",
    "df_patients_info['group'] = df_patients_info['group'].str.replace('&lt;','<')\n",
    "df_patients_info['group'] = df_patients_info['group'].str.replace('&gt;','>')\n",
    "\n",
    "# Replace the strings 'Post-COVID-number' with 'Post-COVID'\n",
    "group=df_patients_info['group'].str.split('ost-COVID', expand=True)\n",
    "group=group[0]\n",
    "group=group.str.replace('P', 'Post-COVID')\n",
    "\n",
    "df_patients_info['group'] = group"
   ]
  },
  {
   "cell_type": "code",
   "execution_count": 10,
   "id": "ecf634ca-b02c-4ccc-9c13-6bc5bd2193db",
   "metadata": {},
   "outputs": [
    {
     "data": {
      "text/plain": [
       "['Units', 'Data', 'Metabolites']"
      ]
     },
     "execution_count": 10,
     "metadata": {},
     "output_type": "execute_result"
    }
   ],
   "source": [
    "# access data block keys\n",
    "list(mwfile[\"NMR_METABOLITE_DATA\"].keys())"
   ]
  },
  {
   "cell_type": "code",
   "execution_count": 11,
   "id": "ccf41dcc-e37d-4213-853a-2cd913a505ad",
   "metadata": {},
   "outputs": [
    {
     "data": {
      "text/plain": [
       "'uM'"
      ]
     },
     "execution_count": 11,
     "metadata": {},
     "output_type": "execute_result"
    }
   ],
   "source": [
    "mwfile[\"NMR_METABOLITE_DATA\"][\"Units\"]"
   ]
  },
  {
   "cell_type": "code",
   "execution_count": 12,
   "id": "73fdf5dd-a0c7-4a0d-a6cf-44488cca9890",
   "metadata": {},
   "outputs": [
    {
     "data": {
      "text/plain": [
       "[OrderedDict([('Metabolite', 'Alanine'), ('KEGG ID', 'C00041\\xa0\\xa0')]),\n",
       " OrderedDict([('Metabolite', 'Creatine'), ('KEGG ID', 'C00300')]),\n",
       " OrderedDict([('Metabolite', 'Creatinine'), ('KEGG ID', 'C00791')])]"
      ]
     },
     "execution_count": 12,
     "metadata": {},
     "output_type": "execute_result"
    }
   ],
   "source": [
    "mwfile[\"NMR_METABOLITE_DATA\"][\"Metabolites\"][:3]"
   ]
  },
  {
   "cell_type": "code",
   "execution_count": 13,
   "id": "d85368d7-7657-4644-a1d9-002328763207",
   "metadata": {},
   "outputs": [
    {
     "name": "stdout",
     "output_type": "stream",
     "text": [
      "['Metabolite', '4', '5', '6', '7']\n",
      "['Alanine', '0.193', '0.535', '0.411', '0.379']\n",
      "Number of metabolites: 139\n"
     ]
    }
   ],
   "source": [
    "print(list(mwfile[\"NMR_METABOLITE_DATA\"][\"Data\"][0].keys())[:5])\n",
    "print(list(mwfile[\"NMR_METABOLITE_DATA\"][\"Data\"][0].values())[:5])\n",
    "\n",
    "print(\"Number of metabolites:\", len(list(mwfile[\"NMR_METABOLITE_DATA\"][\"Data\"])))"
   ]
  },
  {
   "cell_type": "markdown",
   "id": "ff526d36-79e7-4d2e-ad6a-4f70e3dc3a27",
   "metadata": {},
   "source": [
    "**Comment:** Each datapoint in mwfile[\"NMR_METABOLITE_DATA\"][\"Data\"] corresponds to a quantity of a metabolite for each of the 369 samples (patients). There are 139 metabolites."
   ]
  },
  {
   "cell_type": "code",
   "execution_count": 14,
   "id": "49a96c66-40a2-4f56-9ed6-5f0083959948",
   "metadata": {},
   "outputs": [],
   "source": [
    "# Create DataFrame with all metabolites quntities for each patient.\n",
    "\n",
    "metabolite_quantity_all=[]\n",
    "metabolite_name_all=[]\n",
    "\n",
    "for entry in range(len(mwfile[\"NMR_METABOLITE_DATA\"][\"Data\"])): # Loop over the 139 metabolites\n",
    "    \n",
    "    # Take metabolite quantity for each patient, ignore the first entry which is the name of the metabolite, convert to float\n",
    "    metabolite_quantity=list(map(float,list(mwfile[\"NMR_METABOLITE_DATA\"][\"Data\"][entry].values())[1:])) \n",
    "    metabolite_quantity_all.append(metabolite_quantity)\n",
    "    \n",
    "    # Take the first entry which is the name of the metabolite\n",
    "    metabolite_name=list(mwfile[\"NMR_METABOLITE_DATA\"][\"Data\"][entry].values())[0]  \n",
    "    metabolite_name_all.append(metabolite_name)"
   ]
  },
  {
   "cell_type": "code",
   "execution_count": 15,
   "id": "a625733e-aae4-4560-ab03-cd621108cfe7",
   "metadata": {},
   "outputs": [
    {
     "data": {
      "text/plain": [
       "139"
      ]
     },
     "execution_count": 15,
     "metadata": {},
     "output_type": "execute_result"
    }
   ],
   "source": [
    "# Total number of metabolites\n",
    "len(metabolite_name_all)"
   ]
  },
  {
   "cell_type": "code",
   "execution_count": 16,
   "id": "b9593b18-6a90-451a-800d-8f387bb851a3",
   "metadata": {},
   "outputs": [
    {
     "name": "stdout",
     "output_type": "stream",
     "text": [
      "Number of small metabolites 25\n",
      "Stored 'metabolite_not_lipid' (list)\n",
      "Number of lipids 114\n",
      "Stored 'lipid' (set)\n"
     ]
    }
   ],
   "source": [
    "# Distinguish between what is strictly a metabolite in contrast to other substances present, for example lipids.\n",
    "metabolite_not_lipid=['Alanine','Creatine','Creatinine','Glutamine','Glycine','Histidine','Isoleucine','Leucine','Methionine','Ornithine',\n",
    "                      'Phenylalanine','Tyrosine','Valine','Aceticacid','Citricacid','Formicacid',\n",
    "                      'Lacticacid','Succinicacid','3-Hydroxybutyricacid','Acetoaceticacid','Acetone','Pyruvicacid','Glucose','Glycoproteins','Mannose']\n",
    "print('Number of small metabolites', len(metabolite_not_lipid))\n",
    "%store metabolite_not_lipid\n",
    "\n",
    "lipid=set(metabolite_name_all)-set(metabolite_not_lipid)\n",
    "print('Number of lipids', len(lipid))\n",
    "%store lipid"
   ]
  },
  {
   "cell_type": "code",
   "execution_count": 17,
   "id": "a949c9ed-3e47-4602-a1c8-474609bc97bf",
   "metadata": {},
   "outputs": [
    {
     "data": {
      "text/html": [
       "<div>\n",
       "<style scoped>\n",
       "    .dataframe tbody tr th:only-of-type {\n",
       "        vertical-align: middle;\n",
       "    }\n",
       "\n",
       "    .dataframe tbody tr th {\n",
       "        vertical-align: top;\n",
       "    }\n",
       "\n",
       "    .dataframe thead th {\n",
       "        text-align: right;\n",
       "    }\n",
       "</style>\n",
       "<table border=\"1\" class=\"dataframe\">\n",
       "  <thead>\n",
       "    <tr style=\"text-align: right;\">\n",
       "      <th></th>\n",
       "      <th>sample_id</th>\n",
       "      <th>Alanine</th>\n",
       "      <th>Creatine</th>\n",
       "      <th>Creatinine</th>\n",
       "      <th>Glutamine</th>\n",
       "      <th>Glycine</th>\n",
       "      <th>Histidine</th>\n",
       "      <th>Isoleucine</th>\n",
       "      <th>Leucine</th>\n",
       "      <th>Methionine</th>\n",
       "      <th>...</th>\n",
       "      <th>Phospholipids_HDL3</th>\n",
       "      <th>Phospholipids_HDL4</th>\n",
       "      <th>ApoA1_HDL1</th>\n",
       "      <th>ApoA1_HDL2</th>\n",
       "      <th>ApoA1_HDL3</th>\n",
       "      <th>ApoA1_HDL4</th>\n",
       "      <th>ApoA2_HDL1</th>\n",
       "      <th>ApoA2_HDL2</th>\n",
       "      <th>ApoA2_HDL3</th>\n",
       "      <th>ApoA2_HDL4</th>\n",
       "    </tr>\n",
       "  </thead>\n",
       "  <tbody>\n",
       "    <tr>\n",
       "      <th>0</th>\n",
       "      <td>4</td>\n",
       "      <td>0.193</td>\n",
       "      <td>0.135</td>\n",
       "      <td>0.061</td>\n",
       "      <td>0.847</td>\n",
       "      <td>0.298</td>\n",
       "      <td>0.000</td>\n",
       "      <td>0.065</td>\n",
       "      <td>0.053</td>\n",
       "      <td>0.004</td>\n",
       "      <td>...</td>\n",
       "      <td>14.67</td>\n",
       "      <td>18.34</td>\n",
       "      <td>44.91</td>\n",
       "      <td>22.60</td>\n",
       "      <td>21.16</td>\n",
       "      <td>45.96</td>\n",
       "      <td>4.64</td>\n",
       "      <td>3.42</td>\n",
       "      <td>3.90</td>\n",
       "      <td>9.20</td>\n",
       "    </tr>\n",
       "    <tr>\n",
       "      <th>1</th>\n",
       "      <td>5</td>\n",
       "      <td>0.535</td>\n",
       "      <td>0.021</td>\n",
       "      <td>0.072</td>\n",
       "      <td>0.788</td>\n",
       "      <td>0.334</td>\n",
       "      <td>0.000</td>\n",
       "      <td>0.075</td>\n",
       "      <td>0.090</td>\n",
       "      <td>0.005</td>\n",
       "      <td>...</td>\n",
       "      <td>17.84</td>\n",
       "      <td>42.19</td>\n",
       "      <td>14.25</td>\n",
       "      <td>19.62</td>\n",
       "      <td>26.83</td>\n",
       "      <td>110.26</td>\n",
       "      <td>2.01</td>\n",
       "      <td>2.94</td>\n",
       "      <td>6.19</td>\n",
       "      <td>31.74</td>\n",
       "    </tr>\n",
       "    <tr>\n",
       "      <th>2</th>\n",
       "      <td>6</td>\n",
       "      <td>0.411</td>\n",
       "      <td>0.016</td>\n",
       "      <td>0.088</td>\n",
       "      <td>0.705</td>\n",
       "      <td>0.274</td>\n",
       "      <td>0.063</td>\n",
       "      <td>0.077</td>\n",
       "      <td>0.119</td>\n",
       "      <td>0.022</td>\n",
       "      <td>...</td>\n",
       "      <td>10.74</td>\n",
       "      <td>23.66</td>\n",
       "      <td>11.70</td>\n",
       "      <td>12.89</td>\n",
       "      <td>19.43</td>\n",
       "      <td>65.81</td>\n",
       "      <td>1.02</td>\n",
       "      <td>1.57</td>\n",
       "      <td>3.40</td>\n",
       "      <td>15.17</td>\n",
       "    </tr>\n",
       "    <tr>\n",
       "      <th>3</th>\n",
       "      <td>7</td>\n",
       "      <td>0.379</td>\n",
       "      <td>0.018</td>\n",
       "      <td>0.069</td>\n",
       "      <td>0.696</td>\n",
       "      <td>0.538</td>\n",
       "      <td>0.034</td>\n",
       "      <td>0.062</td>\n",
       "      <td>0.082</td>\n",
       "      <td>0.000</td>\n",
       "      <td>...</td>\n",
       "      <td>13.72</td>\n",
       "      <td>27.79</td>\n",
       "      <td>14.14</td>\n",
       "      <td>14.83</td>\n",
       "      <td>23.45</td>\n",
       "      <td>77.41</td>\n",
       "      <td>1.57</td>\n",
       "      <td>2.77</td>\n",
       "      <td>5.49</td>\n",
       "      <td>18.97</td>\n",
       "    </tr>\n",
       "    <tr>\n",
       "      <th>4</th>\n",
       "      <td>8</td>\n",
       "      <td>0.469</td>\n",
       "      <td>0.006</td>\n",
       "      <td>0.071</td>\n",
       "      <td>0.696</td>\n",
       "      <td>0.320</td>\n",
       "      <td>0.064</td>\n",
       "      <td>0.044</td>\n",
       "      <td>0.081</td>\n",
       "      <td>0.012</td>\n",
       "      <td>...</td>\n",
       "      <td>21.08</td>\n",
       "      <td>36.49</td>\n",
       "      <td>36.48</td>\n",
       "      <td>26.34</td>\n",
       "      <td>36.24</td>\n",
       "      <td>97.67</td>\n",
       "      <td>5.09</td>\n",
       "      <td>5.76</td>\n",
       "      <td>8.84</td>\n",
       "      <td>26.49</td>\n",
       "    </tr>\n",
       "  </tbody>\n",
       "</table>\n",
       "<p>5 rows × 140 columns</p>\n",
       "</div>"
      ],
      "text/plain": [
       "  sample_id  Alanine  Creatine  Creatinine  Glutamine  Glycine  Histidine  \\\n",
       "0         4    0.193     0.135       0.061      0.847    0.298      0.000   \n",
       "1         5    0.535     0.021       0.072      0.788    0.334      0.000   \n",
       "2         6    0.411     0.016       0.088      0.705    0.274      0.063   \n",
       "3         7    0.379     0.018       0.069      0.696    0.538      0.034   \n",
       "4         8    0.469     0.006       0.071      0.696    0.320      0.064   \n",
       "\n",
       "   Isoleucine  Leucine  Methionine  ...  Phospholipids_HDL3  \\\n",
       "0       0.065    0.053       0.004  ...               14.67   \n",
       "1       0.075    0.090       0.005  ...               17.84   \n",
       "2       0.077    0.119       0.022  ...               10.74   \n",
       "3       0.062    0.082       0.000  ...               13.72   \n",
       "4       0.044    0.081       0.012  ...               21.08   \n",
       "\n",
       "   Phospholipids_HDL4  ApoA1_HDL1  ApoA1_HDL2  ApoA1_HDL3  ApoA1_HDL4  \\\n",
       "0               18.34       44.91       22.60       21.16       45.96   \n",
       "1               42.19       14.25       19.62       26.83      110.26   \n",
       "2               23.66       11.70       12.89       19.43       65.81   \n",
       "3               27.79       14.14       14.83       23.45       77.41   \n",
       "4               36.49       36.48       26.34       36.24       97.67   \n",
       "\n",
       "   ApoA2_HDL1  ApoA2_HDL2  ApoA2_HDL3  ApoA2_HDL4  \n",
       "0        4.64        3.42        3.90        9.20  \n",
       "1        2.01        2.94        6.19       31.74  \n",
       "2        1.02        1.57        3.40       15.17  \n",
       "3        1.57        2.77        5.49       18.97  \n",
       "4        5.09        5.76        8.84       26.49  \n",
       "\n",
       "[5 rows x 140 columns]"
      ]
     },
     "execution_count": 17,
     "metadata": {},
     "output_type": "execute_result"
    }
   ],
   "source": [
    "# Make DataFrame with the metabolites\n",
    "df=pd.DataFrame(metabolite_quantity_all).T\n",
    "df.columns=metabolite_name_all\n",
    "sample_id=list(mwfile[\"NMR_METABOLITE_DATA\"][\"Data\"][0].keys())[1:]\n",
    "df.insert(0, 'sample_id', sample_id)\n",
    "df.head(5)"
   ]
  },
  {
   "cell_type": "markdown",
   "id": "897f6776-45bf-4b8a-b076-056779840cff",
   "metadata": {},
   "source": [
    "## Merge dataframes with patients and metabolites information"
   ]
  },
  {
   "cell_type": "code",
   "execution_count": 18,
   "id": "4cd24962-75ac-4e20-8106-4e05b9cf0f1c",
   "metadata": {},
   "outputs": [
    {
     "data": {
      "text/html": [
       "<div>\n",
       "<style scoped>\n",
       "    .dataframe tbody tr th:only-of-type {\n",
       "        vertical-align: middle;\n",
       "    }\n",
       "\n",
       "    .dataframe tbody tr th {\n",
       "        vertical-align: top;\n",
       "    }\n",
       "\n",
       "    .dataframe thead th {\n",
       "        text-align: right;\n",
       "    }\n",
       "</style>\n",
       "<table border=\"1\" class=\"dataframe\">\n",
       "  <thead>\n",
       "    <tr style=\"text-align: right;\">\n",
       "      <th></th>\n",
       "      <th>sample_id</th>\n",
       "      <th>severity</th>\n",
       "      <th>group</th>\n",
       "      <th>sex</th>\n",
       "      <th>age</th>\n",
       "      <th>Alanine</th>\n",
       "      <th>Creatine</th>\n",
       "      <th>Creatinine</th>\n",
       "      <th>Glutamine</th>\n",
       "      <th>Glycine</th>\n",
       "      <th>...</th>\n",
       "      <th>Phospholipids_HDL3</th>\n",
       "      <th>Phospholipids_HDL4</th>\n",
       "      <th>ApoA1_HDL1</th>\n",
       "      <th>ApoA1_HDL2</th>\n",
       "      <th>ApoA1_HDL3</th>\n",
       "      <th>ApoA1_HDL4</th>\n",
       "      <th>ApoA2_HDL1</th>\n",
       "      <th>ApoA2_HDL2</th>\n",
       "      <th>ApoA2_HDL3</th>\n",
       "      <th>ApoA2_HDL4</th>\n",
       "    </tr>\n",
       "  </thead>\n",
       "  <tbody>\n",
       "    <tr>\n",
       "      <th>0</th>\n",
       "      <td>6</td>\n",
       "      <td>Asymptomatic</td>\n",
       "      <td>COVID-19&lt;21days</td>\n",
       "      <td>male</td>\n",
       "      <td>72</td>\n",
       "      <td>0.411</td>\n",
       "      <td>0.016</td>\n",
       "      <td>0.088</td>\n",
       "      <td>0.705</td>\n",
       "      <td>0.274</td>\n",
       "      <td>...</td>\n",
       "      <td>10.74</td>\n",
       "      <td>23.66</td>\n",
       "      <td>11.70</td>\n",
       "      <td>12.89</td>\n",
       "      <td>19.43</td>\n",
       "      <td>65.81</td>\n",
       "      <td>1.02</td>\n",
       "      <td>1.57</td>\n",
       "      <td>3.40</td>\n",
       "      <td>15.17</td>\n",
       "    </tr>\n",
       "    <tr>\n",
       "      <th>1</th>\n",
       "      <td>7</td>\n",
       "      <td>Asymptomatic</td>\n",
       "      <td>COVID-19&lt;21days</td>\n",
       "      <td>female</td>\n",
       "      <td>89</td>\n",
       "      <td>0.379</td>\n",
       "      <td>0.018</td>\n",
       "      <td>0.069</td>\n",
       "      <td>0.696</td>\n",
       "      <td>0.538</td>\n",
       "      <td>...</td>\n",
       "      <td>13.72</td>\n",
       "      <td>27.79</td>\n",
       "      <td>14.14</td>\n",
       "      <td>14.83</td>\n",
       "      <td>23.45</td>\n",
       "      <td>77.41</td>\n",
       "      <td>1.57</td>\n",
       "      <td>2.77</td>\n",
       "      <td>5.49</td>\n",
       "      <td>18.97</td>\n",
       "    </tr>\n",
       "    <tr>\n",
       "      <th>2</th>\n",
       "      <td>9</td>\n",
       "      <td>Asymptomatic</td>\n",
       "      <td>COVID-19&lt;21days</td>\n",
       "      <td>female</td>\n",
       "      <td>82</td>\n",
       "      <td>0.362</td>\n",
       "      <td>0.058</td>\n",
       "      <td>0.117</td>\n",
       "      <td>0.657</td>\n",
       "      <td>0.311</td>\n",
       "      <td>...</td>\n",
       "      <td>14.81</td>\n",
       "      <td>25.25</td>\n",
       "      <td>25.53</td>\n",
       "      <td>17.31</td>\n",
       "      <td>24.52</td>\n",
       "      <td>71.67</td>\n",
       "      <td>2.75</td>\n",
       "      <td>3.58</td>\n",
       "      <td>5.84</td>\n",
       "      <td>17.22</td>\n",
       "    </tr>\n",
       "    <tr>\n",
       "      <th>3</th>\n",
       "      <td>19</td>\n",
       "      <td>Asymptomatic</td>\n",
       "      <td>COVID-19&lt;21days</td>\n",
       "      <td>male</td>\n",
       "      <td>56</td>\n",
       "      <td>0.394</td>\n",
       "      <td>0.007</td>\n",
       "      <td>0.100</td>\n",
       "      <td>0.783</td>\n",
       "      <td>0.227</td>\n",
       "      <td>...</td>\n",
       "      <td>10.61</td>\n",
       "      <td>23.90</td>\n",
       "      <td>10.68</td>\n",
       "      <td>11.57</td>\n",
       "      <td>15.62</td>\n",
       "      <td>65.09</td>\n",
       "      <td>1.16</td>\n",
       "      <td>2.20</td>\n",
       "      <td>4.29</td>\n",
       "      <td>17.87</td>\n",
       "    </tr>\n",
       "    <tr>\n",
       "      <th>4</th>\n",
       "      <td>20</td>\n",
       "      <td>Asymptomatic</td>\n",
       "      <td>COVID-19&lt;21days</td>\n",
       "      <td>male</td>\n",
       "      <td>87</td>\n",
       "      <td>0.224</td>\n",
       "      <td>0.122</td>\n",
       "      <td>0.155</td>\n",
       "      <td>0.452</td>\n",
       "      <td>0.220</td>\n",
       "      <td>...</td>\n",
       "      <td>14.48</td>\n",
       "      <td>17.27</td>\n",
       "      <td>15.86</td>\n",
       "      <td>15.26</td>\n",
       "      <td>22.83</td>\n",
       "      <td>44.42</td>\n",
       "      <td>2.40</td>\n",
       "      <td>3.93</td>\n",
       "      <td>6.29</td>\n",
       "      <td>9.79</td>\n",
       "    </tr>\n",
       "  </tbody>\n",
       "</table>\n",
       "<p>5 rows × 144 columns</p>\n",
       "</div>"
      ],
      "text/plain": [
       "  sample_id      severity            group     sex age  Alanine  Creatine  \\\n",
       "0         6  Asymptomatic  COVID-19<21days    male  72    0.411     0.016   \n",
       "1         7  Asymptomatic  COVID-19<21days  female  89    0.379     0.018   \n",
       "2         9  Asymptomatic  COVID-19<21days  female  82    0.362     0.058   \n",
       "3        19  Asymptomatic  COVID-19<21days    male  56    0.394     0.007   \n",
       "4        20  Asymptomatic  COVID-19<21days    male  87    0.224     0.122   \n",
       "\n",
       "   Creatinine  Glutamine  Glycine  ...  Phospholipids_HDL3  \\\n",
       "0       0.088      0.705    0.274  ...               10.74   \n",
       "1       0.069      0.696    0.538  ...               13.72   \n",
       "2       0.117      0.657    0.311  ...               14.81   \n",
       "3       0.100      0.783    0.227  ...               10.61   \n",
       "4       0.155      0.452    0.220  ...               14.48   \n",
       "\n",
       "   Phospholipids_HDL4  ApoA1_HDL1  ApoA1_HDL2  ApoA1_HDL3  ApoA1_HDL4  \\\n",
       "0               23.66       11.70       12.89       19.43       65.81   \n",
       "1               27.79       14.14       14.83       23.45       77.41   \n",
       "2               25.25       25.53       17.31       24.52       71.67   \n",
       "3               23.90       10.68       11.57       15.62       65.09   \n",
       "4               17.27       15.86       15.26       22.83       44.42   \n",
       "\n",
       "   ApoA2_HDL1  ApoA2_HDL2  ApoA2_HDL3  ApoA2_HDL4  \n",
       "0        1.02        1.57        3.40       15.17  \n",
       "1        1.57        2.77        5.49       18.97  \n",
       "2        2.75        3.58        5.84       17.22  \n",
       "3        1.16        2.20        4.29       17.87  \n",
       "4        2.40        3.93        6.29        9.79  \n",
       "\n",
       "[5 rows x 144 columns]"
      ]
     },
     "execution_count": 18,
     "metadata": {},
     "output_type": "execute_result"
    }
   ],
   "source": [
    "# Merge the dataframe with substances quantities and patients information\n",
    "data=pd.merge(df_patients_info, df, on='sample_id')\n",
    "data.to_csv('data.csv', index=False)\n",
    "data.head()"
   ]
  },
  {
   "cell_type": "markdown",
   "id": "61f1fb99-619e-4a0c-b637-56715b097d83",
   "metadata": {},
   "source": [
    "## Check for missing values"
   ]
  },
  {
   "cell_type": "code",
   "execution_count": 19,
   "id": "6c261687-1979-47cd-8fa6-e0446ca28db8",
   "metadata": {},
   "outputs": [
    {
     "data": {
      "text/plain": [
       "0"
      ]
     },
     "execution_count": 19,
     "metadata": {},
     "output_type": "execute_result"
    }
   ],
   "source": [
    "# Show number of NaN in the entire DataFrame\n",
    "data.isnull().sum().sum()"
   ]
  },
  {
   "cell_type": "code",
   "execution_count": 20,
   "id": "2a7b5561-6831-433e-9646-058a204997b6",
   "metadata": {},
   "outputs": [
    {
     "name": "stdout",
     "output_type": "stream",
     "text": [
      "float64    139\n",
      "object       5\n",
      "dtype: int64\n"
     ]
    }
   ],
   "source": [
    "# Count how many times each data type is present in the dataset\n",
    "print(pd.value_counts(data.dtypes))\n",
    "\n",
    "# Make a dictionary to store the column names of columns of the same data type\n",
    "data_types_columns={}\n",
    "for i in range(len(pd.value_counts(data.dtypes))):\n",
    "    data_types_columns[\"col_{0}\".format(pd.value_counts(data.dtypes).index[i])]=data.select_dtypes(include=pd.value_counts(data.dtypes).index[i]).columns\n",
    "    \n",
    "# Create separate lists    \n",
    "col_float64=data_types_columns[\"col_float64\"]\n",
    "col_object=data_types_columns[\"col_object\"]"
   ]
  },
  {
   "cell_type": "code",
   "execution_count": 21,
   "id": "0407b4cb-ceed-4ad6-9f06-904e477551de",
   "metadata": {},
   "outputs": [
    {
     "data": {
      "text/plain": [
       "Index(['sample_id', 'severity', 'group', 'sex', 'age'], dtype='object')"
      ]
     },
     "execution_count": 21,
     "metadata": {},
     "output_type": "execute_result"
    }
   ],
   "source": [
    "# Have a look at the object columns\n",
    "col_object"
   ]
  },
  {
   "cell_type": "code",
   "execution_count": 22,
   "id": "d8a0ca56-3ab7-432a-ac5d-5c8524d0b136",
   "metadata": {},
   "outputs": [
    {
     "name": "stdout",
     "output_type": "stream",
     "text": [
      "['Asymptomatic' 'Mild' 'Moderate' 'Severe']\n",
      "['COVID-19<21days' 'COVID-19>21days' 'Post-COVID']\n",
      "['male' 'female']\n"
     ]
    }
   ],
   "source": [
    "print(data['severity'].unique())\n",
    "print(data['group'].unique())\n",
    "print(data['sex'].unique())"
   ]
  },
  {
   "cell_type": "markdown",
   "id": "4d80251c-2b49-44d4-8cae-00298c1e9350",
   "metadata": {},
   "source": [
    "## Encode features"
   ]
  },
  {
   "cell_type": "code",
   "execution_count": 23,
   "id": "4ffdbc17-1a9c-46ca-9952-1c065f285a02",
   "metadata": {},
   "outputs": [],
   "source": [
    "# Change format and encode the features\n",
    "data['age']=data['age'].astype('int64')\n",
    "\n",
    "scale_mapper_severity = {'Asymptomatic':0, 'Mild':1, 'Moderate':2, 'Severe':3}\n",
    "data['severity'] = data['severity'].replace(scale_mapper_severity)\n",
    "\n",
    "scale_mapper_group = {'Post-COVID':0, 'COVID-19>21days':1, 'COVID-19<21days':2}\n",
    "data['group'] = data['group'].replace(scale_mapper_group)\n",
    "\n",
    "scale_mapper_sex = {'female':0, 'male':1}\n",
    "data['sex'] = data['sex'].replace(scale_mapper_sex )"
   ]
  },
  {
   "cell_type": "code",
   "execution_count": 24,
   "id": "1f860574-84a2-4fb6-9eb4-df6f5560b151",
   "metadata": {},
   "outputs": [
    {
     "name": "stdout",
     "output_type": "stream",
     "text": [
      "1    137\n",
      "2    131\n",
      "0     53\n",
      "3     47\n",
      "Name: age_cat, dtype: int64\n"
     ]
    }
   ],
   "source": [
    "# Create categories for the 'age' parameter\n",
    "conditions = [\n",
    "    (data['age'] <= 50),\n",
    "    (data['age'] > 50) & (data['age'] <= 70),\n",
    "    (data['age'] > 70) & (data['age'] <= 85),\n",
    "    (data['age'] > 85)\n",
    "]\n",
    "\n",
    "# create a list of the values we want to assign for each condition\n",
    "values = ['0', '1', '2', '3']\n",
    "\n",
    "# create a new column and use np.select to assign values to it using our lists as arguments\n",
    "age_cat = np.select(conditions, values)\n",
    "data.insert(5, 'age_cat', age_cat)\n",
    "\n",
    "# Check the number of unique values in the \"age\" variable\n",
    "print(data['age_cat'].value_counts())"
   ]
  },
  {
   "cell_type": "code",
   "execution_count": 25,
   "id": "963b1610-bb19-4616-a322-ef0d35dc4eab",
   "metadata": {},
   "outputs": [
    {
     "name": "stdout",
     "output_type": "stream",
     "text": [
      "float64    139\n",
      "int64        4\n",
      "object       2\n",
      "dtype: int64\n",
      "Stored 'col_float64' (Index)\n",
      "Stored 'col_object' (Index)\n",
      "Stored 'col_int64' (Index)\n"
     ]
    }
   ],
   "source": [
    "# Count how many times each data type is present in the dataset\n",
    "print(pd.value_counts(data.dtypes))\n",
    "\n",
    "# Make a dictionary to store the column names of columns of the same data type\n",
    "data_types_columns={}\n",
    "for i in range(len(pd.value_counts(data.dtypes))):\n",
    "    data_types_columns[\"col_{0}\".format(pd.value_counts(data.dtypes).index[i])]=data.select_dtypes(include=pd.value_counts(data.dtypes).index[i]).columns\n",
    "    \n",
    "# Create separate lists    \n",
    "col_float64=data_types_columns[\"col_float64\"]\n",
    "%store col_float64\n",
    "col_object=data_types_columns[\"col_object\"]\n",
    "%store col_object\n",
    "col_int64=data_types_columns[\"col_int64\"]\n",
    "%store col_int64"
   ]
  },
  {
   "cell_type": "code",
   "execution_count": 26,
   "id": "e7f31fe2-364d-4526-8ec3-d520853573ec",
   "metadata": {},
   "outputs": [
    {
     "data": {
      "text/plain": [
       "Index(['severity', 'group', 'sex', 'age'], dtype='object')"
      ]
     },
     "execution_count": 26,
     "metadata": {},
     "output_type": "execute_result"
    }
   ],
   "source": [
    "col_int64"
   ]
  },
  {
   "cell_type": "markdown",
   "id": "db175a13-def5-49b2-8d9e-49a591719a9e",
   "metadata": {},
   "source": [
    "# EDA"
   ]
  },
  {
   "cell_type": "code",
   "execution_count": 27,
   "id": "5423946e-ca78-4c76-aad9-2d302e6f2c28",
   "metadata": {},
   "outputs": [
    {
     "name": "stdout",
     "output_type": "stream",
     "text": [
      "2    246\n",
      "0     94\n",
      "1     28\n",
      "Name: group, dtype: int64\n",
      "2    0.668478\n",
      "0    0.255435\n",
      "1    0.076087\n",
      "Name: group, dtype: float64\n"
     ]
    }
   ],
   "source": [
    "# Check the number of samples (patients) in each group\n",
    "print(data['group'].value_counts())\n",
    "print(data['group'].value_counts(normalize=True))"
   ]
  },
  {
   "cell_type": "code",
   "execution_count": 28,
   "id": "6f911cf1-a2a1-417f-9d21-a6d64788677e",
   "metadata": {},
   "outputs": [
    {
     "data": {
      "image/png": "[encoded data removed]",
      "text/plain": [
       "<Figure size 1080x288 with 3 Axes>"
      ]
     },
     "metadata": {
      "needs_background": "light"
     },
     "output_type": "display_data"
    }
   ],
   "source": [
    "# Plot the distribution of patients in different groups, with different symptoms severity and with different gender. \n",
    "\n",
    "fig, axes = plt.subplots(nrows = 1,\n",
    "                        ncols = 3,\n",
    "                        figsize = (15,4),\n",
    "                        gridspec_kw = {\"wspace\": 0.2,  # Sets the width of padding between subplots (is a fraction of the Axes width)\n",
    "                                        \"width_ratios\": [ 1.5, 1, 1] # Sets relative width ratios between subplots \n",
    "                                       })\n",
    "\n",
    "for i, ax in zip(range(0, 3), axes.flatten()):\n",
    "    \n",
    "    # List the features of interest\n",
    "    feature=[\"group\",\"severity\", \"sex\"]\n",
    "    \n",
    "    # Plot the countplot\n",
    "    sns.countplot(data = data, x=feature[i], ax=axes[i])\n",
    "    \n",
    "    # Add x/y labels and titles\n",
    "    xticks = [['COVID-19<21days', 'COVID-19>21days', 'Post-COVID'], ['Asymptomatic', 'Mild', 'Moderate', 'Severe'], ['female', 'male']]\n",
    "    ax.set_xticklabels(xticks[i])\n",
    "    ax.set_title('{}'.format(feature[i]))"
   ]
  },
  {
   "cell_type": "code",
   "execution_count": 29,
   "id": "fd175599-e77a-4257-affd-de2d1f1d4aaa",
   "metadata": {},
   "outputs": [
    {
     "data": {
      "image/png": "[encoded data removed]",
      "text/plain": [
       "<Figure size 432x288 with 1 Axes>"
      ]
     },
     "metadata": {
      "needs_background": "light"
     },
     "output_type": "display_data"
    }
   ],
   "source": [
    "data_counts = data.groupby(['severity', 'sex']).size().reset_index().pivot(columns=['sex',], index='severity', values=0)\n",
    "data_counts.index=['Asymptomatic', 'Mild', 'Moderate', 'Severe']\n",
    "data_counts.plot(kind='bar', stacked=True)\n",
    "plt.title(\"Proportion of men and woman per severity of symptoms\")\n",
    "plt.show()"
   ]
  },
  {
   "cell_type": "code",
   "execution_count": 30,
   "id": "3062e043-2e7e-4968-991a-0ca9566d2faf",
   "metadata": {},
   "outputs": [
    {
     "data": {
      "image/png": "[encoded data removed]",
      "text/plain": [
       "<Figure size 432x288 with 1 Axes>"
      ]
     },
     "metadata": {
      "needs_background": "light"
     },
     "output_type": "display_data"
    }
   ],
   "source": [
    "data_counts = data.groupby(['group', 'severity']).size().reset_index().pivot(columns=['severity',], index='group', values=0)\n",
    "data_counts.index=['COVID-19<21days', 'COVID-19>21days', 'Post-COVID']\n",
    "data_counts.plot(kind='bar', stacked=True)\n",
    "plt.title(\"Proportion of patients with different severity of symptoms per group\")\n",
    "plt.show()"
   ]
  },
  {
   "cell_type": "markdown",
   "id": "a2d15be0-b7ad-42f1-9e0c-3b90f083d10a",
   "metadata": {},
   "source": [
    "**Comment:** \n",
    "- The Dataset is imbalanced, there are 94 patients in group 0 (Post-COVID), 28 patients in group 1 (examined in the post-acute phase 'COVID-19>21days', so during the healing) and 246 patients in the group 2 (examined in the acute phase of infection).\\\n",
    "- The subjects have been classified according to the disease severity in the acute phase, not at the moment of the blood sample taking. \\\n",
    "- In each of the three groups, most patients had mild or moderate symptoms, some of them were asymptomatic and the minority had severe symptoms. \\\n",
    "- There is roughly an equal distribution of male and female accross different levels of severity of the symptoms. "
   ]
  },
  {
   "cell_type": "code",
   "execution_count": 31,
   "id": "3276d35f-c431-4ba9-81b2-a7f8df39adf1",
   "metadata": {},
   "outputs": [
    {
     "data": {
      "image/png": "[encoded data removed]",
      "text/plain": [
       "<Figure size 432x288 with 1 Axes>"
      ]
     },
     "metadata": {
      "needs_background": "light"
     },
     "output_type": "display_data"
    },
    {
     "data": {
      "image/png": "[encoded data removed]",
      "text/plain": [
       "<Figure size 432x288 with 1 Axes>"
      ]
     },
     "metadata": {
      "needs_background": "light"
     },
     "output_type": "display_data"
    },
    {
     "data": {
      "image/png": "[encoded data removed]",
      "text/plain": [
       "<Figure size 432x288 with 1 Axes>"
      ]
     },
     "metadata": {
      "needs_background": "light"
     },
     "output_type": "display_data"
    },
    {
     "data": {
      "image/png": "[encoded data removed]",
      "text/plain": [
       "<Figure size 432x288 with 1 Axes>"
      ]
     },
     "metadata": {
      "needs_background": "light"
     },
     "output_type": "display_data"
    }
   ],
   "source": [
    "# Check whether female/female is more prevalent in certain severity classes (in the three groups)\n",
    "severity=[0,1,2,3]\n",
    "title=[\"Proportion of asymptomatic men and woman in each group\",\n",
    "      \"Proportion of men and woman with mild symptoms in each group\",\n",
    "      \"Proportion of men and woman with moderate symptoms in each group\",\n",
    "       \"Proportion of men and woman with severe symptoms in each group\"]\n",
    "\n",
    "for i in range(0, 4):\n",
    "\n",
    "    data_counts = data[data['severity']==severity[i]].groupby(['group', 'sex']).size().reset_index().pivot(columns=['sex',], index='group', values=0)\n",
    "    data_counts.plot(kind='bar', stacked=True)\n",
    "    plt.title(title[i])\n",
    "    plt.show()"
   ]
  },
  {
   "cell_type": "markdown",
   "id": "b2919d74-61b7-46fe-ad54-bac842fe6302",
   "metadata": {},
   "source": [
    "**Comment:** The proportion of male and female in the different severity classes in the three groups is similar, except in the post acute group of asymptomatic patients where majority are female. "
   ]
  },
  {
   "cell_type": "markdown",
   "id": "6a90b3a0-7102-4b7d-9073-9859e8555fb1",
   "metadata": {
    "tags": []
   },
   "source": [
    "# Features exploration"
   ]
  },
  {
   "cell_type": "markdown",
   "id": "556704dc-02cd-4d1e-b2e0-cce60202ec6f",
   "metadata": {},
   "source": [
    "## Numerical features values distribution and outliers"
   ]
  },
  {
   "cell_type": "code",
   "execution_count": 32,
   "id": "b309fd16-c7fc-4d3f-87a0-ab1ca530dfa7",
   "metadata": {},
   "outputs": [
    {
     "name": "stdout",
     "output_type": "stream",
     "text": [
      "16\n"
     ]
    },
    {
     "data": {
      "image/png": "[encoded data removed]",
      "text/plain": [
       "<Figure size 1080x720 with 16 Axes>"
      ]
     },
     "metadata": {
      "needs_background": "light"
     },
     "output_type": "display_data"
    }
   ],
   "source": [
    "col_float64_batch1=col_float64[:16]\n",
    "print(len(col_float64_batch1))\n",
    "\n",
    "fig, axes = plt.subplots(nrows = 4,\n",
    "                        ncols = 4,\n",
    "                        figsize = (15,10),\n",
    "                        gridspec_kw = ({\"wspace\": 0.1, \"hspace\": 0.3}), sharey=True)\n",
    "\n",
    "# Plot distribution of the continuous variables  \n",
    "for feat, ax in zip(col_float64_batch1, axes.ravel()):\n",
    "    sns.boxplot(data=data[feat], orient=\"h\", ax=ax, fliersize=2)\n",
    "    ax.set_title('{}'.format(feat),fontsize=10)"
   ]
  },
  {
   "cell_type": "code",
   "execution_count": 33,
   "id": "4e6a3619-245c-4efe-83a4-184fcf91c3bd",
   "metadata": {},
   "outputs": [
    {
     "data": {
      "text/html": [
       "<div>\n",
       "<style scoped>\n",
       "    .dataframe tbody tr th:only-of-type {\n",
       "        vertical-align: middle;\n",
       "    }\n",
       "\n",
       "    .dataframe tbody tr th {\n",
       "        vertical-align: top;\n",
       "    }\n",
       "\n",
       "    .dataframe thead th {\n",
       "        text-align: right;\n",
       "    }\n",
       "</style>\n",
       "<table border=\"1\" class=\"dataframe\">\n",
       "  <thead>\n",
       "    <tr style=\"text-align: right;\">\n",
       "      <th></th>\n",
       "      <th>sample_id</th>\n",
       "      <th>severity</th>\n",
       "      <th>group</th>\n",
       "      <th>sex</th>\n",
       "      <th>age</th>\n",
       "    </tr>\n",
       "  </thead>\n",
       "  <tbody>\n",
       "    <tr>\n",
       "      <th>Alanine</th>\n",
       "      <td>255</td>\n",
       "      <td>2</td>\n",
       "      <td>2</td>\n",
       "      <td>1</td>\n",
       "      <td>80</td>\n",
       "    </tr>\n",
       "    <tr>\n",
       "      <th>Phenylalanine</th>\n",
       "      <td>319</td>\n",
       "      <td>1</td>\n",
       "      <td>2</td>\n",
       "      <td>1</td>\n",
       "      <td>93</td>\n",
       "    </tr>\n",
       "    <tr>\n",
       "      <th>Valine</th>\n",
       "      <td>206</td>\n",
       "      <td>1</td>\n",
       "      <td>2</td>\n",
       "      <td>0</td>\n",
       "      <td>70</td>\n",
       "    </tr>\n",
       "    <tr>\n",
       "      <th>Creatine</th>\n",
       "      <td>262</td>\n",
       "      <td>2</td>\n",
       "      <td>2</td>\n",
       "      <td>0</td>\n",
       "      <td>89</td>\n",
       "    </tr>\n",
       "    <tr>\n",
       "      <th>Leucine</th>\n",
       "      <td>265</td>\n",
       "      <td>3</td>\n",
       "      <td>2</td>\n",
       "      <td>1</td>\n",
       "      <td>52</td>\n",
       "    </tr>\n",
       "    <tr>\n",
       "      <th>Ornithine</th>\n",
       "      <td>214</td>\n",
       "      <td>2</td>\n",
       "      <td>2</td>\n",
       "      <td>0</td>\n",
       "      <td>85</td>\n",
       "    </tr>\n",
       "    <tr>\n",
       "      <th>Tyrosine</th>\n",
       "      <td>233</td>\n",
       "      <td>2</td>\n",
       "      <td>2</td>\n",
       "      <td>1</td>\n",
       "      <td>70</td>\n",
       "    </tr>\n",
       "    <tr>\n",
       "      <th>Aceticacid</th>\n",
       "      <td>260</td>\n",
       "      <td>1</td>\n",
       "      <td>2</td>\n",
       "      <td>0</td>\n",
       "      <td>89</td>\n",
       "    </tr>\n",
       "  </tbody>\n",
       "</table>\n",
       "</div>"
      ],
      "text/plain": [
       "              sample_id  severity  group  sex  age\n",
       "Alanine             255         2      2    1   80\n",
       "Phenylalanine       319         1      2    1   93\n",
       "Valine              206         1      2    0   70\n",
       "Creatine            262         2      2    0   89\n",
       "Leucine             265         3      2    1   52\n",
       "Ornithine           214         2      2    0   85\n",
       "Tyrosine            233         2      2    1   70\n",
       "Aceticacid          260         1      2    0   89"
      ]
     },
     "execution_count": 33,
     "metadata": {},
     "output_type": "execute_result"
    }
   ],
   "source": [
    "# Check if the outliers correspond to a particular group of patients\n",
    "\n",
    "# Choose columns of interest\n",
    "col_identity=['sample_id', 'severity', 'group', 'sex', 'age']\n",
    "\n",
    "substances_to_check=['Alanine', 'Phenylalanine', 'Valine', 'Creatine', 'Leucine', 'Ornithine', 'Tyrosine', 'Aceticacid']\n",
    "treshold=[1, 0.2, 0.5, 0.45, 0.3, 0.09, 0.15, 0.13]\n",
    "info_list=[]\n",
    "\n",
    "for i in range (0, len(substances_to_check)):\n",
    "    temp_list=list(data.loc[data[substances_to_check[i]]>treshold[i],col_identity].iloc[0,:])\n",
    "    info_list.append(temp_list)\n",
    "    \n",
    "info_list_df=pd.DataFrame(info_list, columns=col_identity, index=substances_to_check)\n",
    "info_list_df"
   ]
  },
  {
   "cell_type": "markdown",
   "id": "f9ce26d1-6648-44ca-bfb1-ef67ba05f406",
   "metadata": {},
   "source": [
    "**Comment:** The most extreme outliers in severeal randomly chosen features correspond to patients from group 2 (acute phase of infection)."
   ]
  },
  {
   "cell_type": "markdown",
   "id": "496d81ed-1eb5-4d44-8671-8ed071cd322e",
   "metadata": {
    "tags": []
   },
   "source": [
    "# Features encoding and save"
   ]
  },
  {
   "cell_type": "code",
   "execution_count": 35,
   "id": "94d1b1f3-0d1a-411b-bcc4-3e930f1c1a33",
   "metadata": {},
   "outputs": [
    {
     "name": "stdout",
     "output_type": "stream",
     "text": [
      "(368, 152)\n"
     ]
    },
    {
     "data": {
      "text/html": [
       "<div>\n",
       "<style scoped>\n",
       "    .dataframe tbody tr th:only-of-type {\n",
       "        vertical-align: middle;\n",
       "    }\n",
       "\n",
       "    .dataframe tbody tr th {\n",
       "        vertical-align: top;\n",
       "    }\n",
       "\n",
       "    .dataframe thead th {\n",
       "        text-align: right;\n",
       "    }\n",
       "</style>\n",
       "<table border=\"1\" class=\"dataframe\">\n",
       "  <thead>\n",
       "    <tr style=\"text-align: right;\">\n",
       "      <th></th>\n",
       "      <th>sample_id</th>\n",
       "      <th>group</th>\n",
       "      <th>age</th>\n",
       "      <th>Alanine</th>\n",
       "      <th>Creatine</th>\n",
       "      <th>Creatinine</th>\n",
       "      <th>Glutamine</th>\n",
       "      <th>Glycine</th>\n",
       "      <th>Histidine</th>\n",
       "      <th>Isoleucine</th>\n",
       "      <th>...</th>\n",
       "      <th>severity_0</th>\n",
       "      <th>severity_1</th>\n",
       "      <th>severity_2</th>\n",
       "      <th>severity_3</th>\n",
       "      <th>sex_0</th>\n",
       "      <th>sex_1</th>\n",
       "      <th>age_cat_0</th>\n",
       "      <th>age_cat_1</th>\n",
       "      <th>age_cat_2</th>\n",
       "      <th>age_cat_3</th>\n",
       "    </tr>\n",
       "  </thead>\n",
       "  <tbody>\n",
       "    <tr>\n",
       "      <th>0</th>\n",
       "      <td>6</td>\n",
       "      <td>2</td>\n",
       "      <td>72</td>\n",
       "      <td>0.411</td>\n",
       "      <td>0.016</td>\n",
       "      <td>0.088</td>\n",
       "      <td>0.705</td>\n",
       "      <td>0.274</td>\n",
       "      <td>0.063</td>\n",
       "      <td>0.077</td>\n",
       "      <td>...</td>\n",
       "      <td>1</td>\n",
       "      <td>0</td>\n",
       "      <td>0</td>\n",
       "      <td>0</td>\n",
       "      <td>0</td>\n",
       "      <td>1</td>\n",
       "      <td>0</td>\n",
       "      <td>0</td>\n",
       "      <td>1</td>\n",
       "      <td>0</td>\n",
       "    </tr>\n",
       "    <tr>\n",
       "      <th>1</th>\n",
       "      <td>7</td>\n",
       "      <td>2</td>\n",
       "      <td>89</td>\n",
       "      <td>0.379</td>\n",
       "      <td>0.018</td>\n",
       "      <td>0.069</td>\n",
       "      <td>0.696</td>\n",
       "      <td>0.538</td>\n",
       "      <td>0.034</td>\n",
       "      <td>0.062</td>\n",
       "      <td>...</td>\n",
       "      <td>1</td>\n",
       "      <td>0</td>\n",
       "      <td>0</td>\n",
       "      <td>0</td>\n",
       "      <td>1</td>\n",
       "      <td>0</td>\n",
       "      <td>0</td>\n",
       "      <td>0</td>\n",
       "      <td>0</td>\n",
       "      <td>1</td>\n",
       "    </tr>\n",
       "    <tr>\n",
       "      <th>2</th>\n",
       "      <td>9</td>\n",
       "      <td>2</td>\n",
       "      <td>82</td>\n",
       "      <td>0.362</td>\n",
       "      <td>0.058</td>\n",
       "      <td>0.117</td>\n",
       "      <td>0.657</td>\n",
       "      <td>0.311</td>\n",
       "      <td>0.054</td>\n",
       "      <td>0.054</td>\n",
       "      <td>...</td>\n",
       "      <td>1</td>\n",
       "      <td>0</td>\n",
       "      <td>0</td>\n",
       "      <td>0</td>\n",
       "      <td>1</td>\n",
       "      <td>0</td>\n",
       "      <td>0</td>\n",
       "      <td>0</td>\n",
       "      <td>1</td>\n",
       "      <td>0</td>\n",
       "    </tr>\n",
       "    <tr>\n",
       "      <th>3</th>\n",
       "      <td>19</td>\n",
       "      <td>2</td>\n",
       "      <td>56</td>\n",
       "      <td>0.394</td>\n",
       "      <td>0.007</td>\n",
       "      <td>0.100</td>\n",
       "      <td>0.783</td>\n",
       "      <td>0.227</td>\n",
       "      <td>0.067</td>\n",
       "      <td>0.084</td>\n",
       "      <td>...</td>\n",
       "      <td>1</td>\n",
       "      <td>0</td>\n",
       "      <td>0</td>\n",
       "      <td>0</td>\n",
       "      <td>0</td>\n",
       "      <td>1</td>\n",
       "      <td>0</td>\n",
       "      <td>1</td>\n",
       "      <td>0</td>\n",
       "      <td>0</td>\n",
       "    </tr>\n",
       "    <tr>\n",
       "      <th>4</th>\n",
       "      <td>20</td>\n",
       "      <td>2</td>\n",
       "      <td>87</td>\n",
       "      <td>0.224</td>\n",
       "      <td>0.122</td>\n",
       "      <td>0.155</td>\n",
       "      <td>0.452</td>\n",
       "      <td>0.220</td>\n",
       "      <td>0.055</td>\n",
       "      <td>0.033</td>\n",
       "      <td>...</td>\n",
       "      <td>1</td>\n",
       "      <td>0</td>\n",
       "      <td>0</td>\n",
       "      <td>0</td>\n",
       "      <td>0</td>\n",
       "      <td>1</td>\n",
       "      <td>0</td>\n",
       "      <td>0</td>\n",
       "      <td>0</td>\n",
       "      <td>1</td>\n",
       "    </tr>\n",
       "  </tbody>\n",
       "</table>\n",
       "<p>5 rows × 152 columns</p>\n",
       "</div>"
      ],
      "text/plain": [
       "  sample_id  group  age  Alanine  Creatine  Creatinine  Glutamine  Glycine  \\\n",
       "0         6      2   72    0.411     0.016       0.088      0.705    0.274   \n",
       "1         7      2   89    0.379     0.018       0.069      0.696    0.538   \n",
       "2         9      2   82    0.362     0.058       0.117      0.657    0.311   \n",
       "3        19      2   56    0.394     0.007       0.100      0.783    0.227   \n",
       "4        20      2   87    0.224     0.122       0.155      0.452    0.220   \n",
       "\n",
       "   Histidine  Isoleucine  ...  severity_0  severity_1  severity_2  severity_3  \\\n",
       "0      0.063       0.077  ...           1           0           0           0   \n",
       "1      0.034       0.062  ...           1           0           0           0   \n",
       "2      0.054       0.054  ...           1           0           0           0   \n",
       "3      0.067       0.084  ...           1           0           0           0   \n",
       "4      0.055       0.033  ...           1           0           0           0   \n",
       "\n",
       "   sex_0  sex_1  age_cat_0  age_cat_1  age_cat_2  age_cat_3  \n",
       "0      0      1          0          0          1          0  \n",
       "1      1      0          0          0          0          1  \n",
       "2      1      0          0          0          1          0  \n",
       "3      0      1          0          1          0          0  \n",
       "4      0      1          0          0          0          1  \n",
       "\n",
       "[5 rows x 152 columns]"
      ]
     },
     "execution_count": 35,
     "metadata": {},
     "output_type": "execute_result"
    }
   ],
   "source": [
    "# One-hot encoding of ordinal and nominal variables\n",
    "data_ohe = pd.get_dummies(data, columns=[\"severity\",\"sex\",\"age_cat\"]) \n",
    "print(data_ohe.shape)\n",
    "data.to_csv('data.csv', index=False)\n",
    "data_ohe.to_csv('data_ohe.csv', index=False)\n",
    "data_ohe.head(5)"
   ]
  },
  {
   "cell_type": "code",
   "execution_count": null,
   "id": "a9bad813-1186-4327-ae19-caa842f0be63",
   "metadata": {},
   "outputs": [],
   "source": []
  }
 ],
 "metadata": {
  "kernelspec": {
   "display_name": "Python [conda env:adsml] *",
   "language": "python",
   "name": "conda-env-adsml-py"
  },
  "language_info": {
   "codemirror_mode": {
    "name": "ipython",
    "version": 3
   },
   "file_extension": ".py",
   "mimetype": "text/x-python",
   "name": "python",
   "nbconvert_exporter": "python",
   "pygments_lexer": "ipython3",
   "version": "3.9.7"
  }
 },
 "nbformat": 4,
 "nbformat_minor": 5
}
